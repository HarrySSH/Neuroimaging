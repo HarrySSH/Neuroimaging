{
 "cells": [
  {
   "cell_type": "code",
   "execution_count": 1,
   "metadata": {
    "scrolled": false
   },
   "outputs": [
    {
     "name": "stderr",
     "output_type": "stream",
     "text": [
      "/home/jingjinglab/cw/miniconda3/envs/Harry_env/lib/python3.8/site-packages/sklearn/utils/deprecation.py:143: FutureWarning: The sklearn.utils.testing module is  deprecated in version 0.22 and will be removed in version 0.24. The corresponding classes / functions should instead be imported from sklearn.utils. Anything that cannot be imported from sklearn.utils is now part of the private API.\n",
      "  warnings.warn(message, FutureWarning)\n"
     ]
    }
   ],
   "source": [
    "import lazypredict\n",
    "import mat4py\n",
    "from sklearn.datasets import load_breast_cancer\n",
    "from sklearn.model_selection import train_test_split\n",
    "import numpy as np\n",
    "import pandas as pd\n",
    "import scipy.io\n",
    "import os \n",
    "from lazypredict.Supervised import LazyRegressor\n",
    "from sklearn.model_selection import KFold\n",
    "from sklearn.datasets import make_regression\n",
    "import matplotlib.pyplot as plt "
   ]
  },
  {
   "cell_type": "code",
   "execution_count": 124,
   "metadata": {},
   "outputs": [
    {
     "name": "stdout",
     "output_type": "stream",
     "text": [
      "Traing fit\n",
      "0.9774071166691155\n",
      "Testing fit\n",
      "0.8347189718496821\n"
     ]
    }
   ],
   "source": [
    "# random forest\n",
    "\n",
    "# build a df to store the information\n",
    "\n",
    "# instead use the subset, this time I am trying the whole, which might be not suitable for ML, but I just wanted a positive control\n",
    "from sklearn.ensemble import RandomForestRegressor\n",
    "from sklearn.metrics import r2_score\n",
    "from sklearn.metrics import mean_squared_error\n",
    "\n",
    "X , y= make_regression(n_samples=5700, n_features=53, n_informative= 10, bias=0)\n",
    "\n",
    "\n",
    "Dataset = X\n",
    "Target = y\n",
    "#X_train, X_test, y_train, y_test = train_test_split(Dataset, Target,test_size=.2,random_state =123)  \n",
    "\n",
    "#\n",
    "kf = KFold(n_splits=10, shuffle= True)\n",
    "list_r2 = []\n",
    "for train_index, test_index in kf.split(Dataset):\n",
    "    #print(train_index)\n",
    "    #print(test_index)\n",
    "    sub1 = train_index#), int(len(train_index))\n",
    "    sub2 = test_index#), int(len(test_index)/50))\n",
    "    X_train, X_test = Dataset[sub1], Dataset[sub2]\n",
    "    y_train, y_test = Target[sub1], Target[sub2]\n",
    "  \n",
    "    \n",
    "    \n",
    "    #reg = LazyRegressor(verbose=1, predictions=True,ignore_warnings=False, custom_metric=None)\n",
    "    #models, predictions = reg.fit(X_train, X_test, y_train, y_test)\n",
    "    #print(models)\n",
    "    \n",
    "    RF_model = RandomForestRegressor(n_estimators=100,max_features = 40,max_depth=20)#,warm_start = True)  # height\n",
    "    RF_model.fit(X_train, y_train)\n",
    "    print('Traing fit')\n",
    "    Predict = RF_model.predict(X_train)\n",
    "    print(r2_score(y_train, Predict))\n",
    "    print('Testing fit')\n",
    "    Predict = RF_model.predict(X_test)\n",
    "    print(r2_score(y_test, Predict))\n",
    "    list_r2.append(r2_score(y_test, Predict))\n",
    "    break\n",
    "    '''\n",
    "    svr_rbf = SVR()\n",
    "    \n",
    "    svr_rbf.fit(Dataset_Training_sub,Target_training_sub)\n",
    "\n",
    "\n",
    "    Predict = svr_rbf.predict(Dataset_Testing_sub)\n",
    "    _res = []\n",
    "    _res.append('SVR')\n",
    "    \n",
    "    _res.append(r2_score(Target_Testing_sub,Predict))\n",
    "    _res.append(mean_squared_error(Target_Testing_sub,Predict,squared=False))\n",
    "    print(_res)\n",
    "    '''"
   ]
  },
  {
   "cell_type": "markdown",
   "metadata": {},
   "source": [
    "# Try to do a Neural network"
   ]
  },
  {
   "cell_type": "code",
   "execution_count": 26,
   "metadata": {},
   "outputs": [],
   "source": [
    "import torch\n",
    "from torch.autograd import Variable\n",
    "import torch.nn.functional as F\n",
    "import torch.nn as nn\n",
    "import torch.utils.data as Data"
   ]
  },
  {
   "cell_type": "code",
   "execution_count": 128,
   "metadata": {
    "scrolled": true
   },
   "outputs": [],
   "source": [
    "class Mnist_NN(nn.Module):\n",
    "    def __init__(self):\n",
    "        super().__init__()\n",
    "        self.lin1 = nn.Linear(53, 40, bias=True) \n",
    "        self.lin2 = nn.Linear(40, 10, bias=True)\n",
    "        self.lin3 = nn.Linear(10, 1, bias=True)\n",
    "\n",
    "    def forward(self, xb):\n",
    "         \n",
    "        x = F.relu(self.lin1(xb))\n",
    "        x = F.relu(self.lin2(x))\n",
    "        x = F.relu(self.lin3(x))\n",
    "    \n",
    "        return x"
   ]
  },
  {
   "cell_type": "code",
   "execution_count": 3,
   "metadata": {},
   "outputs": [],
   "source": [
    "def MSE(array1,array2):\n",
    "    return np.sum(np.square(array1-array2))"
   ]
  },
  {
   "cell_type": "code",
   "execution_count": 22,
   "metadata": {},
   "outputs": [
    {
     "data": {
      "text/plain": [
       "(5130, 53)"
      ]
     },
     "execution_count": 22,
     "metadata": {},
     "output_type": "execute_result"
    }
   ],
   "source": [
    "X_train.shape"
   ]
  },
  {
   "cell_type": "code",
   "execution_count": 23,
   "metadata": {},
   "outputs": [
    {
     "data": {
      "text/plain": [
       "(5130,)"
      ]
     },
     "execution_count": 23,
     "metadata": {},
     "output_type": "execute_result"
    }
   ],
   "source": [
    "y_train.shape"
   ]
  },
  {
   "cell_type": "code",
   "execution_count": 102,
   "metadata": {},
   "outputs": [
    {
     "name": "stdout",
     "output_type": "stream",
     "text": [
      "(424, 1)\n",
      "?\n",
      "(5700, 84)\n",
      "(5700,)\n"
     ]
    }
   ],
   "source": [
    "# A function which can convert a 2d list to a 1d list\n",
    "\n",
    "def flatten_list(_2d_list):\n",
    "    flat_list = []\n",
    "    for element in _2d_list:\n",
    "        if type(element) is list:\n",
    "            for item in element:\n",
    "                flat_list.append(item)\n",
    "        else:\n",
    "            flat_list.append(element)\n",
    "    return flat_list\n",
    "\n",
    "\n",
    "\n",
    "\n",
    "## \n",
    "## load data\n",
    "\n",
    "import scipy.io\n",
    "Connectomes = scipy.io.loadmat('../Cells2Connectomes/Connectomes.mat')\n",
    "Connectome_direct = Connectomes['C_dir']\n",
    "\n",
    "\n",
    "'''\n",
    "\n",
    "Region volumes, in a 424 vector, to get connectivity density, divide\n",
    "% each row in connectomes by each entry in the vector to get density. Units\n",
    "% are in 200 micron per vertex voxels.\n",
    "\n",
    "'''\n",
    "\n",
    "CellType_volumn = mat4py.loadmat('../Cells2Connectomes/Regional_Volumes.mat')\n",
    "CellType_volumn = CellType_volumn['region_vols']\n",
    "Celltype_volumn =np.array([np.array(xi) for xi in CellType_volumn])\n",
    "print(Celltype_volumn.shape)\n",
    "\n",
    "# Nomarlize by the entry\n",
    "\n",
    "Connectome_direct_density = Connectome_direct/Celltype_volumn\n",
    "\n",
    "\n",
    "Cell_type = mat4py.loadmat('../Cells2Connectomes/CellType_Maps.mat')\n",
    "Cell_type = Cell_type['cellmaps']\n",
    "\n",
    "\n",
    "\n",
    "Cell_type = mat4py.loadmat('../Cells2Connectomes/CellType_Maps.mat')\n",
    "Cell_type = Cell_type['cellmaps']\n",
    "Celltype_mtx =np.array([np.array(xi) for xi in Cell_type])\n",
    "Celltype_mtx.shape\n",
    "\n",
    "# Important : normalizing via the columns\n",
    "\n",
    "Celltype_mtx_norm = (Celltype_mtx.max(axis=0)-Celltype_mtx) / (Celltype_mtx.max(axis=0) - Celltype_mtx.min(axis=0) )\n",
    "\n",
    "Region_maps = mat4py.loadmat('../Cells2Connectomes/Region_Names.mat')\n",
    "Region_maps = Region_maps['region_names']\n",
    "Regionmaps_df = pd.DataFrame(Region_maps,columns = ['Anno1','Anno2','Anno3'])\n",
    "\n",
    "\n",
    "Region_maps_list = flatten_list(Region_maps)\n",
    "Region_maps_list\n",
    "\n",
    "Region_maps_array = np.array(Region_maps_list)\n",
    "Region_maps_array_2d = np.reshape(Region_maps_array, (3,212))\n",
    "#Region_maps\n",
    "\n",
    "\n",
    "Regionmaps_df['Anno1'] = Region_maps_array_2d[0]\n",
    "Regionmaps_df['Anno2'] = Region_maps_array_2d[1]\n",
    "Regionmaps_df['Anno3'] = Region_maps_array_2d[2]\n",
    "\n",
    "index_l = Regionmaps_df[Regionmaps_df['Anno2'].isin(['Isocortex'])].index\n",
    "list(index_l)\n",
    "index_r = [x+ 212 for x in index_l]\n",
    "index = list(index_l) + list(index_r)\n",
    "\n",
    "\n",
    "\n",
    "\n",
    "Distance = mat4py.loadmat('../Cells2Connectomes/Interregional_Distances.mat')\n",
    "Distance = Distance['D']\n",
    "Distance_mtx =np.array([np.array(xi) for xi in Distance])\n",
    "Distance_mtx.shape\n",
    "\n",
    "\n",
    "#encode the features\n",
    "\n",
    "s = pd.Series(Regionmaps_df['Anno2'].tolist()+Regionmaps_df['Anno2'].tolist())\n",
    "Region_encodes = pd.get_dummies(s)\n",
    "\n",
    "Region_encodes = Region_encodes.to_numpy()\n",
    "\n",
    "# random forest\n",
    "\n",
    "# build a df to store the information\n",
    "\n",
    "# instead use the subset, this time I am trying the whole, which might be not suitable for ML, but I just wanted a positive control\n",
    "from sklearn.ensemble import RandomForestRegressor\n",
    "from sklearn.metrics import r2_score\n",
    "from sklearn.metrics import mean_squared_error\n",
    "res_df =[]\n",
    "\n",
    "\n",
    "Target = []\n",
    "Dataset = []\n",
    "Celltype_mtx_norm_sub  = Celltype_mtx_norm[index]\n",
    "Connectome_direct_density_sub = Connectome_direct_density[index, :]\n",
    "Connectome_direct_density_sub = Connectome_direct_density_sub[:,index]\n",
    "Distance_mtx_sub = Distance_mtx[index,:]\n",
    "Distance_mtx_sub = Distance_mtx_sub[:,index]\n",
    "for i in range(Celltype_mtx_norm_sub.shape[0]):\n",
    "    for j in range(Celltype_mtx_norm_sub.shape[0]):\n",
    "        \n",
    "        if i >= 212 :\n",
    "            i_ = i - 212\n",
    "        else:\n",
    "            i_ = i\n",
    "        \n",
    "        if j >= 212 :\n",
    "            j_ = j - 212\n",
    "        else:\n",
    "            j_ = j\n",
    "        if (Regionmaps_df['Anno2'][i_] == Regionmaps_df['Anno2'][j_] ):\n",
    "            if ((i >= 212) == (j >= 212)):\n",
    "                \n",
    "                close_region = 1\n",
    "            else: \n",
    "                close_region = 0.5\n",
    "        else:\n",
    "            close_region = 0\n",
    "        \n",
    "        #print(i)\n",
    "        #print(j)\n",
    "        if i == j:\n",
    "            pass       \n",
    "        else:\n",
    "\n",
    "            #_Dataset_Training = np.concatenate((Dataset_Train_set[i,:],Dataset_Train_set[j,:]))\n",
    "            #Dataset_Training = np.stack((Dataset_Training,_Dataset_Training))\n",
    "            Dataset.append(np.concatenate((Celltype_mtx_norm_sub[i,:],Celltype_mtx_norm_sub[j,:],Distance_mtx_sub[i,j].reshape(1), \\\n",
    "                                        Celltype_volumn[i].reshape(1),Celltype_volumn[j].reshape(1),np.array(close_region).reshape(1), \\\n",
    "                                          Region_encodes[i],Region_encodes[j])))\n",
    "                                          #np.dot(Celltype_mtx_norm_sub[i,:].reshape(25,1),Celltype_mtx_norm_sub[j,:].reshape(1,25)).reshape(625))))#,\n",
    "                                       #   Celltype_mtx_norm_sub[i,:] - Celltype_mtx_norm_sub[j,:], \n",
    "                                       #np.log10(((Celltype_mtx_norm_sub[i,:]+ 0.0001 )/ (Celltype_mtx_norm_sub[j,:]+0.0001))+1))))\n",
    "            #Dataset.append(np.concatenate((Celltype_mtx_norm_sub[i,:],Celltype_mtx_norm_sub[j,:],\n",
    "            #                              Celltype_mtx_norm_sub[i,:] - Celltype_mtx_norm_sub[j,:], \n",
    "                                      # np.log10(((Celltype_mtx_norm_sub[i,:]+ 0.0001 )/ (Celltype_mtx_norm_sub[j,:]+0.0001))+1))))\n",
    "            Target.append(Connectome_direct_density_sub[i,j])\n",
    "            \n",
    "            \n",
    "print('?')\n",
    "Dataset = np.stack(Dataset)\n",
    "#capped_Target = [5 if x>5 else x for x in Target]\n",
    "capped_Target = [math.log2(x+1) for x in capped_Target]\n",
    "Target =np.array([np.array(xi) for xi in capped_Target])   \n",
    "print(Dataset.shape)\n",
    "print(Target.shape)    \n",
    "X_train, X_test, y_train, y_test = train_test_split(Dataset, Target,test_size=.1,random_state =123)  \n"
   ]
  },
  {
   "cell_type": "code",
   "execution_count": 107,
   "metadata": {},
   "outputs": [],
   "source": [
    "#MES loss\n",
    "class Net(torch.nn.Module):\n",
    "    def __init__(self, n_feature, n_hidden, n_output):\n",
    "        super(Net, self).__init__()\n",
    "        self.hidden = torch.nn.Linear(n_feature, n_hidden)   # hidden layer\n",
    "        self.predict = torch.nn.Linear(n_hidden, n_output)   # output layer\n",
    "\n",
    "    def forward(self, x):\n",
    "        x = F.relu(self.hidden(x))      # activation function for hidden layer\n",
    "        x = self.predict(x)             # linear output\n",
    "        return x\n",
    "X , y= make_regression(n_samples=5700, n_features=84, n_informative= 10, bias=0)\n",
    "\n",
    "X_train, X_test, y_train, y_test = train_test_split(X, y,test_size=.1,random_state =123)"
   ]
  },
  {
   "cell_type": "code",
   "execution_count": 99,
   "metadata": {},
   "outputs": [],
   "source": [
    "def R2_loss(pred, label):\n",
    "    b = pred.size()[0]\n",
    "    pred = pred.view(b, -1)\n",
    "    label = label.view(b, -1)\n",
    "    RSS = torch.sum(torch.square(label - pred), dim=-1, keepdim=False)\n",
    "    TSS = torch.sum(torch.square(label - torch.mean(label)), dim=-1, keepdim=False)\n",
    "    \n",
    "    return torch.mean(RSS/TSS)"
   ]
  },
  {
   "cell_type": "code",
   "execution_count": null,
   "metadata": {
    "scrolled": true
   },
   "outputs": [
    {
     "name": "stdout",
     "output_type": "stream",
     "text": [
      "torch.Size([2000, 53])\n",
      "torch.Size([2000])\n",
      "torch.Size([2000, 53])\n",
      "torch.Size([2000])\n",
      "42122.9\n",
      "torch.Size([1130, 53])\n",
      "torch.Size([1130])\n",
      "torch.Size([2000, 53])\n",
      "torch.Size([2000])\n",
      "torch.Size([2000, 53])\n",
      "torch.Size([2000])\n",
      "41491.01\n",
      "torch.Size([1130, 53])\n",
      "torch.Size([1130])\n",
      "torch.Size([2000, 53])\n",
      "torch.Size([2000])\n",
      "torch.Size([2000, 53])\n",
      "torch.Size([2000])\n",
      "40097.477\n",
      "torch.Size([1130, 53])\n",
      "torch.Size([1130])\n",
      "torch.Size([2000, 53])\n",
      "torch.Size([2000])\n",
      "torch.Size([2000, 53])\n",
      "torch.Size([2000])\n",
      "42870.188\n",
      "torch.Size([1130, 53])\n",
      "torch.Size([1130])\n",
      "torch.Size([2000, 53])\n",
      "torch.Size([2000])\n",
      "torch.Size([2000, 53])\n",
      "torch.Size([2000])\n",
      "41732.805\n",
      "torch.Size([1130, 53])\n",
      "torch.Size([1130])\n",
      "torch.Size([2000, 53])\n",
      "torch.Size([2000])\n",
      "torch.Size([2000, 53])\n",
      "torch.Size([2000])\n",
      "40361.68\n",
      "torch.Size([1130, 53])\n",
      "torch.Size([1130])\n",
      "torch.Size([2000, 53])\n",
      "torch.Size([2000])\n",
      "torch.Size([2000, 53])\n",
      "torch.Size([2000])\n",
      "41684.145\n",
      "torch.Size([1130, 53])\n",
      "torch.Size([1130])\n",
      "torch.Size([2000, 53])\n",
      "torch.Size([2000])\n",
      "torch.Size([2000, 53])\n",
      "torch.Size([2000])\n",
      "41817.38\n",
      "torch.Size([1130, 53])\n",
      "torch.Size([1130])\n"
     ]
    }
   ],
   "source": [
    " \n",
    "    \n",
    "\n",
    "net = Mnist_NN()    # define the network\n",
    "def init_weights(m):\n",
    "    if type(m) == nn.Linear:\n",
    "        torch.nn.init.xavier_uniform(m.weight)\n",
    "        m.bias.data.fill_(0.01)\n",
    "#net.apply(init_weights)\n",
    "# print(net)  # net architecture\n",
    "optimizer = torch.optim.SGD(net.parameters(), lr=0.0001)\n",
    "loss_func = torch.nn.MSELoss()  # this is for regression mean squared loss\n",
    "\n",
    "\n",
    "\n",
    "# train the network\n",
    "x, y = torch.from_numpy(X_train), torch.from_numpy(y_train)\n",
    "\n",
    "\n",
    "    \n",
    "BATCH_SIZE = 2000\n",
    "EPOCH = 20\n",
    "\n",
    "torch_dataset = Data.TensorDataset(x, y)\n",
    "\n",
    "loader = Data.DataLoader(\n",
    "    dataset=torch_dataset, \n",
    "    batch_size=BATCH_SIZE, \n",
    "    shuffle=True, num_workers=2,)\n",
    "\n",
    "\n",
    "\n",
    "# start training\n",
    "for epoch in range(EPOCH):\n",
    "    for step, (batch_x, batch_y) in enumerate(loader): # for each training step\n",
    "        \n",
    "        b_x = Variable(batch_x.float())\n",
    "        b_y = Variable(batch_y.float())\n",
    "\n",
    "        prediction = net(b_x)     # input x and predict based on x\n",
    "\n",
    "        loss = loss_func(prediction, b_y)     # must be (1. nn output, 2. target)\n",
    "        \n",
    "        optimizer.zero_grad()   # clear gradients for next train\n",
    "        loss.backward()         # backpropagation, compute gradients\n",
    "        optimizer.step()        # apply gradients\n",
    "\n",
    "        if step == 1:\n",
    "            # plot and show learning process\n",
    "            print(loss.data.numpy())\n",
    "            #print('R square:'+ str(r2_score(prediction.detach().numpy(), b_y.detach().numpy())))"
   ]
  },
  {
   "cell_type": "code",
   "execution_count": 84,
   "metadata": {},
   "outputs": [
    {
     "data": {
      "text/plain": [
       "tensor([ 1.2500, -1.2500])"
      ]
     },
     "execution_count": 84,
     "metadata": {},
     "output_type": "execute_result"
    }
   ],
   "source": [
    "p = torch.tensor([1.5, -1.])\n",
    "p - torch.mean(p)\n"
   ]
  },
  {
   "cell_type": "code",
   "execution_count": 88,
   "metadata": {},
   "outputs": [
    {
     "data": {
      "text/plain": [
       "tensor([1])"
      ]
     },
     "execution_count": 88,
     "metadata": {},
     "output_type": "execute_result"
    }
   ],
   "source": [
    "torch.tensor([2])//torch.tensor([2])"
   ]
  },
  {
   "cell_type": "code",
   "execution_count": 98,
   "metadata": {
    "scrolled": true
   },
   "outputs": [
    {
     "name": "stdout",
     "output_type": "stream",
     "text": [
      "Traing fit\n",
      "0.9628976023199731\n",
      "Testing fit\n",
      "0.7630173617930127\n"
     ]
    }
   ],
   "source": [
    "RF_model = RandomForestRegressor(n_estimators=100,max_features = 50,max_depth=20,min_samples_split =3)#,warm_start = True)  # height\n",
    "RF_model.fit(X_train, y_train)\n",
    "print('Traing fit')\n",
    "Predict = RF_model.predict(X_train)\n",
    "print(r2_score(y_train, Predict))\n",
    "print('Testing fit')\n",
    "Predict = RF_model.predict(X_test)\n",
    "print(r2_score(y_test, Predict))\n"
   ]
  },
  {
   "cell_type": "code",
   "execution_count": 71,
   "metadata": {
    "scrolled": true
   },
   "outputs": [
    {
     "name": "stdout",
     "output_type": "stream",
     "text": [
      "7.4815655\n",
      "R square:-0.08194122811190696\n",
      "0.5138893\n",
      "R square:-1.1459725185116545\n",
      "0.41219175\n",
      "R square:-0.8407284870117846\n",
      "0.6820402\n",
      "R square:-2.98283752081142\n",
      "1.0949314\n",
      "R square:-1.118750706327945\n",
      "0.8739645\n",
      "R square:-1.0029785339253703\n",
      "0.48945224\n",
      "R square:-0.5624830306147306\n",
      "0.6035946\n",
      "R square:-0.4651752817475636\n",
      "0.21832813\n",
      "R square:-2.0757706306269337\n",
      "0.6129872\n",
      "R square:-1.6549244545214314\n",
      "0.76007724\n",
      "R square:-1.5980387934154492\n",
      "0.34140936\n",
      "R square:-0.2926013082376382\n",
      "0.5672246\n",
      "R square:-1.265133443773311\n",
      "0.8282721\n",
      "R square:-0.3034012800271506\n",
      "0.6211305\n",
      "R square:-1.1826675108155427\n",
      "0.94288677\n",
      "R square:-2.6316302791405612\n",
      "0.60473144\n",
      "R square:-0.41361261188039333\n",
      "0.71771705\n",
      "R square:-1.0489870143906779\n",
      "0.22008866\n",
      "R square:-3.8927818052252947\n",
      "0.5218654\n",
      "R square:-3.176275109375572\n",
      "0.60303706\n",
      "R square:-0.6496397720487463\n",
      "0.6964686\n",
      "R square:-1.1232028293898009\n",
      "0.8718969\n",
      "R square:-1.6499983703432997\n",
      "0.2593743\n",
      "R square:-7.4898126578005115\n",
      "1.1759396\n",
      "R square:-2.1369751249668747\n",
      "1.247928\n",
      "R square:-1.6752032918211568\n",
      "1.22603\n",
      "R square:-1.8399077427552073\n",
      "0.66889\n",
      "R square:-2.1124438639478575\n",
      "0.35004702\n",
      "R square:-2.788810864138385\n",
      "0.83279556\n",
      "R square:-1.4380400002834413\n",
      "0.536938\n",
      "R square:-3.5092069944105164\n",
      "0.23801664\n",
      "R square:-9.774217497472888\n",
      "0.36939645\n",
      "R square:-4.5262773101174805\n",
      "0.7574738\n",
      "R square:-1.4322998079187408\n",
      "0.8034398\n",
      "R square:-2.0329942372608034\n",
      "0.15649898\n",
      "R square:-10.09572903135715\n",
      "0.71437675\n",
      "R square:-2.127855917032893\n",
      "0.85608596\n",
      "R square:-1.7987352143260855\n",
      "0.7527779\n",
      "R square:-1.3402257174957057\n",
      "0.7873714\n",
      "R square:-1.862679431217252\n",
      "0.33630356\n",
      "R square:-2.838252961665036\n",
      "0.7080379\n",
      "R square:-2.6938176292142204\n",
      "0.86482435\n",
      "R square:-1.5401324069648674\n",
      "0.5007957\n",
      "R square:-0.8939386318873555\n",
      "0.695215\n",
      "R square:-0.602202658839549\n",
      "0.57890576\n",
      "R square:-3.116339378815348\n",
      "0.44031912\n",
      "R square:-2.993767867762987\n",
      "1.0358051\n",
      "R square:-2.4194511738930053\n",
      "0.289498\n",
      "R square:-4.05776753836709\n",
      "0.3299531\n",
      "R square:-3.4203528701810386\n"
     ]
    }
   ],
   "source": [
    "#L1 loss\n",
    "class Net(torch.nn.Module):\n",
    "    def __init__(self, n_feature, n_hidden, n_output):\n",
    "        super(Net, self).__init__()\n",
    "        self.hidden = torch.nn.Linear(n_feature, n_hidden)   # hidden layer\n",
    "        self.predict = torch.nn.Linear(n_hidden, n_output)   # output layer\n",
    "\n",
    "    def forward(self, x):\n",
    "        x = F.relu(self.hidden(x))      # activation function for hidden layer\n",
    "        x = self.predict(x)             # linear output\n",
    "        return x\n",
    "\n",
    "    \n",
    "\n",
    "net = Net(n_feature=84, n_hidden=200, n_output=1)     # define the network\n",
    "def init_weights(m):\n",
    "    if type(m) == nn.Linear:\n",
    "        torch.nn.init.xavier_uniform(m.weight)\n",
    "        m.bias.data.fill_(0.01)\n",
    "net.apply(init_weights)\n",
    "# print(net)  # net architecture\n",
    "optimizer = torch.optim.SGD(net.parameters(), lr=0.00005)\n",
    "#loss_func = torch.nn.L1Loss()  # this is for regression mean squared loss\n",
    "\n",
    "loss_func = torch.nn.SmoothL1Loss()\n",
    "\n",
    "# train the network\n",
    "x, y = torch.from_numpy(X_train), torch.from_numpy(y_train)\n",
    "\n",
    "\n",
    "    \n",
    "BATCH_SIZE = 64\n",
    "EPOCH = 50\n",
    "\n",
    "torch_dataset = Data.TensorDataset(x, y)\n",
    "\n",
    "loader = Data.DataLoader(\n",
    "    dataset=torch_dataset, \n",
    "    batch_size=BATCH_SIZE, \n",
    "    shuffle=True, num_workers=2,)\n",
    "\n",
    "\n",
    "\n",
    "# start training\n",
    "loss_ls = []\n",
    "for epoch in range(EPOCH):\n",
    "    for step, (batch_x, batch_y) in enumerate(loader): # for each training step\n",
    "        \n",
    "        b_x = Variable(batch_x.float())\n",
    "        b_y = Variable(batch_y.float())\n",
    "\n",
    "        prediction = net(b_x)     # input x and predict based on x\n",
    "\n",
    "        loss = loss_func(prediction, b_y)     # must be (1. nn output, 2. target)\n",
    "\n",
    "        optimizer.zero_grad()   # clear gradients for next train\n",
    "        loss.backward()         # backpropagation, compute gradients\n",
    "        optimizer.step()        # apply gradients\n",
    "\n",
    "        if step == 1:\n",
    "            # plot and show learning process\n",
    "            print(loss.data.numpy())\n",
    "            print('R square:'+ str(r2_score(prediction.detach().numpy(), b_y.detach().numpy())))\n",
    "        loss_ls.append(loss.data.numpy())\n",
    "        \n",
    "        if epoch > 50:\n",
    "            if loss.data.numpy() < min(loss_ls):\n",
    "                print('Stop at'+ ' '+ epoch +'th')\n",
    "                break"
   ]
  },
  {
   "cell_type": "code",
   "execution_count": 30,
   "metadata": {},
   "outputs": [
    {
     "ename": "RuntimeError",
     "evalue": "Boolean value of Tensor with more than one value is ambiguous",
     "output_type": "error",
     "traceback": [
      "\u001b[0;31m---------------------------------------------------------------------------\u001b[0m",
      "\u001b[0;31mRuntimeError\u001b[0m                              Traceback (most recent call last)",
      "\u001b[0;32m<ipython-input-30-655030fe7e3d>\u001b[0m in \u001b[0;36m<module>\u001b[0;34m\u001b[0m\n\u001b[1;32m     49\u001b[0m         \u001b[0mprediction\u001b[0m \u001b[0;34m=\u001b[0m \u001b[0mnet\u001b[0m\u001b[0;34m(\u001b[0m\u001b[0mb_x\u001b[0m\u001b[0;34m)\u001b[0m     \u001b[0;31m# input x and predict based on x\u001b[0m\u001b[0;34m\u001b[0m\u001b[0;34m\u001b[0m\u001b[0m\n\u001b[1;32m     50\u001b[0m \u001b[0;34m\u001b[0m\u001b[0m\n\u001b[0;32m---> 51\u001b[0;31m         \u001b[0mloss\u001b[0m \u001b[0;34m=\u001b[0m \u001b[0mloss_func\u001b[0m\u001b[0;34m(\u001b[0m\u001b[0mprediction\u001b[0m\u001b[0;34m,\u001b[0m \u001b[0mb_y\u001b[0m\u001b[0;34m)\u001b[0m     \u001b[0;31m# must be (1. nn output, 2. target)\u001b[0m\u001b[0;34m\u001b[0m\u001b[0;34m\u001b[0m\u001b[0m\n\u001b[0m\u001b[1;32m     52\u001b[0m \u001b[0;34m\u001b[0m\u001b[0m\n\u001b[1;32m     53\u001b[0m         \u001b[0moptimizer\u001b[0m\u001b[0;34m.\u001b[0m\u001b[0mzero_grad\u001b[0m\u001b[0;34m(\u001b[0m\u001b[0;34m)\u001b[0m   \u001b[0;31m# clear gradients for next train\u001b[0m\u001b[0;34m\u001b[0m\u001b[0;34m\u001b[0m\u001b[0m\n",
      "\u001b[0;32m~/cw/miniconda3/envs/Harry_env/lib/python3.8/site-packages/torch/nn/modules/loss.py\u001b[0m in \u001b[0;36m__init__\u001b[0;34m(self, size_average, reduce, reduction)\u001b[0m\n\u001b[1;32m     88\u001b[0m \u001b[0;34m\u001b[0m\u001b[0m\n\u001b[1;32m     89\u001b[0m     \u001b[0;32mdef\u001b[0m \u001b[0m__init__\u001b[0m\u001b[0;34m(\u001b[0m\u001b[0mself\u001b[0m\u001b[0;34m,\u001b[0m \u001b[0msize_average\u001b[0m\u001b[0;34m=\u001b[0m\u001b[0;32mNone\u001b[0m\u001b[0;34m,\u001b[0m \u001b[0mreduce\u001b[0m\u001b[0;34m=\u001b[0m\u001b[0;32mNone\u001b[0m\u001b[0;34m,\u001b[0m \u001b[0mreduction\u001b[0m\u001b[0;34m:\u001b[0m \u001b[0mstr\u001b[0m \u001b[0;34m=\u001b[0m \u001b[0;34m'mean'\u001b[0m\u001b[0;34m)\u001b[0m \u001b[0;34m->\u001b[0m \u001b[0;32mNone\u001b[0m\u001b[0;34m:\u001b[0m\u001b[0;34m\u001b[0m\u001b[0;34m\u001b[0m\u001b[0m\n\u001b[0;32m---> 90\u001b[0;31m         \u001b[0msuper\u001b[0m\u001b[0;34m(\u001b[0m\u001b[0mL1Loss\u001b[0m\u001b[0;34m,\u001b[0m \u001b[0mself\u001b[0m\u001b[0;34m)\u001b[0m\u001b[0;34m.\u001b[0m\u001b[0m__init__\u001b[0m\u001b[0;34m(\u001b[0m\u001b[0msize_average\u001b[0m\u001b[0;34m,\u001b[0m \u001b[0mreduce\u001b[0m\u001b[0;34m,\u001b[0m \u001b[0mreduction\u001b[0m\u001b[0;34m)\u001b[0m\u001b[0;34m\u001b[0m\u001b[0;34m\u001b[0m\u001b[0m\n\u001b[0m\u001b[1;32m     91\u001b[0m \u001b[0;34m\u001b[0m\u001b[0m\n\u001b[1;32m     92\u001b[0m     \u001b[0;32mdef\u001b[0m \u001b[0mforward\u001b[0m\u001b[0;34m(\u001b[0m\u001b[0mself\u001b[0m\u001b[0;34m,\u001b[0m \u001b[0minput\u001b[0m\u001b[0;34m:\u001b[0m \u001b[0mTensor\u001b[0m\u001b[0;34m,\u001b[0m \u001b[0mtarget\u001b[0m\u001b[0;34m:\u001b[0m \u001b[0mTensor\u001b[0m\u001b[0;34m)\u001b[0m \u001b[0;34m->\u001b[0m \u001b[0mTensor\u001b[0m\u001b[0;34m:\u001b[0m\u001b[0;34m\u001b[0m\u001b[0;34m\u001b[0m\u001b[0m\n",
      "\u001b[0;32m~/cw/miniconda3/envs/Harry_env/lib/python3.8/site-packages/torch/nn/modules/loss.py\u001b[0m in \u001b[0;36m__init__\u001b[0;34m(self, size_average, reduce, reduction)\u001b[0m\n\u001b[1;32m     15\u001b[0m         \u001b[0msuper\u001b[0m\u001b[0;34m(\u001b[0m\u001b[0m_Loss\u001b[0m\u001b[0;34m,\u001b[0m \u001b[0mself\u001b[0m\u001b[0;34m)\u001b[0m\u001b[0;34m.\u001b[0m\u001b[0m__init__\u001b[0m\u001b[0;34m(\u001b[0m\u001b[0;34m)\u001b[0m\u001b[0;34m\u001b[0m\u001b[0;34m\u001b[0m\u001b[0m\n\u001b[1;32m     16\u001b[0m         \u001b[0;32mif\u001b[0m \u001b[0msize_average\u001b[0m \u001b[0;32mis\u001b[0m \u001b[0;32mnot\u001b[0m \u001b[0;32mNone\u001b[0m \u001b[0;32mor\u001b[0m \u001b[0mreduce\u001b[0m \u001b[0;32mis\u001b[0m \u001b[0;32mnot\u001b[0m \u001b[0;32mNone\u001b[0m\u001b[0;34m:\u001b[0m\u001b[0;34m\u001b[0m\u001b[0;34m\u001b[0m\u001b[0m\n\u001b[0;32m---> 17\u001b[0;31m             \u001b[0mself\u001b[0m\u001b[0;34m.\u001b[0m\u001b[0mreduction\u001b[0m \u001b[0;34m=\u001b[0m \u001b[0m_Reduction\u001b[0m\u001b[0;34m.\u001b[0m\u001b[0mlegacy_get_string\u001b[0m\u001b[0;34m(\u001b[0m\u001b[0msize_average\u001b[0m\u001b[0;34m,\u001b[0m \u001b[0mreduce\u001b[0m\u001b[0;34m)\u001b[0m\u001b[0;34m\u001b[0m\u001b[0;34m\u001b[0m\u001b[0m\n\u001b[0m\u001b[1;32m     18\u001b[0m         \u001b[0;32melse\u001b[0m\u001b[0;34m:\u001b[0m\u001b[0;34m\u001b[0m\u001b[0;34m\u001b[0m\u001b[0m\n\u001b[1;32m     19\u001b[0m             \u001b[0mself\u001b[0m\u001b[0;34m.\u001b[0m\u001b[0mreduction\u001b[0m \u001b[0;34m=\u001b[0m \u001b[0mreduction\u001b[0m\u001b[0;34m\u001b[0m\u001b[0;34m\u001b[0m\u001b[0m\n",
      "\u001b[0;32m~/cw/miniconda3/envs/Harry_env/lib/python3.8/site-packages/torch/nn/_reduction.py\u001b[0m in \u001b[0;36mlegacy_get_string\u001b[0;34m(size_average, reduce, emit_warning)\u001b[0m\n\u001b[1;32m     35\u001b[0m         \u001b[0mreduce\u001b[0m \u001b[0;34m=\u001b[0m \u001b[0;32mTrue\u001b[0m\u001b[0;34m\u001b[0m\u001b[0;34m\u001b[0m\u001b[0m\n\u001b[1;32m     36\u001b[0m \u001b[0;34m\u001b[0m\u001b[0m\n\u001b[0;32m---> 37\u001b[0;31m     \u001b[0;32mif\u001b[0m \u001b[0msize_average\u001b[0m \u001b[0;32mand\u001b[0m \u001b[0mreduce\u001b[0m\u001b[0;34m:\u001b[0m\u001b[0;34m\u001b[0m\u001b[0;34m\u001b[0m\u001b[0m\n\u001b[0m\u001b[1;32m     38\u001b[0m         \u001b[0mret\u001b[0m \u001b[0;34m=\u001b[0m \u001b[0;34m'mean'\u001b[0m\u001b[0;34m\u001b[0m\u001b[0;34m\u001b[0m\u001b[0m\n\u001b[1;32m     39\u001b[0m     \u001b[0;32melif\u001b[0m \u001b[0mreduce\u001b[0m\u001b[0;34m:\u001b[0m\u001b[0;34m\u001b[0m\u001b[0;34m\u001b[0m\u001b[0m\n",
      "\u001b[0;31mRuntimeError\u001b[0m: Boolean value of Tensor with more than one value is ambiguous"
     ]
    }
   ],
   "source": [
    "# L1 loss\n"
   ]
  },
  {
   "cell_type": "code",
   "execution_count": 65,
   "metadata": {},
   "outputs": [],
   "source": [
    "prediction = net(torch.from_numpy(X_test).float())"
   ]
  },
  {
   "cell_type": "code",
   "execution_count": 39,
   "metadata": {
    "scrolled": true
   },
   "outputs": [
    {
     "data": {
      "text/plain": [
       "torch.Size([570, 1])"
      ]
     },
     "execution_count": 39,
     "metadata": {},
     "output_type": "execute_result"
    }
   ],
   "source": [
    "prediction.shape"
   ]
  },
  {
   "cell_type": "code",
   "execution_count": 40,
   "metadata": {},
   "outputs": [
    {
     "data": {
      "text/plain": [
       "0.5763893684017175"
      ]
     },
     "execution_count": 40,
     "metadata": {},
     "output_type": "execute_result"
    }
   ],
   "source": [
    "import math\n",
    "import statistics as stat\n",
    "stat.mean(y_test)"
   ]
  },
  {
   "cell_type": "code",
   "execution_count": 67,
   "metadata": {
    "scrolled": true
   },
   "outputs": [
    {
     "data": {
      "text/plain": [
       "-2.556657881297739"
      ]
     },
     "execution_count": 67,
     "metadata": {},
     "output_type": "execute_result"
    }
   ],
   "source": [
    "r2_score([x for x in prediction.detach().numpy()], y_test)"
   ]
  },
  {
   "cell_type": "code",
   "execution_count": 62,
   "metadata": {
    "scrolled": true
   },
   "outputs": [
    {
     "data": {
      "text/plain": [
       "(array([   8.,   17.,   70.,  114.,  142.,  240.,  268.,  587., 1760.,\n",
       "        1924.]),\n",
       " array([-3.2333941 , -2.8633327 , -2.4932716 , -2.1232102 , -1.7531489 ,\n",
       "        -1.3830876 , -1.0130264 , -0.6429651 , -0.27290377,  0.09715752,\n",
       "         0.46721882], dtype=float32),\n",
       " <BarContainer object of 10 artists>)"
      ]
     },
     "execution_count": 62,
     "metadata": {},
     "output_type": "execute_result"
    },
    {
     "data": {
      "image/png": "[encoded data removed]",
      "text/plain": [
       "<Figure size 432x288 with 1 Axes>"
      ]
     },
     "metadata": {
      "needs_background": "light"
     },
     "output_type": "display_data"
    }
   ],
   "source": [
    "plt.hist(prediction.detach().numpy())"
   ]
  },
  {
   "cell_type": "code",
   "execution_count": 63,
   "metadata": {},
   "outputs": [
    {
     "data": {
      "text/plain": [
       "[<matplotlib.lines.Line2D at 0x7f4c3bdcc7c0>]"
      ]
     },
     "execution_count": 63,
     "metadata": {},
     "output_type": "execute_result"
    },
    {
     "data": {
      "image/png": "[encoded data removed]",
      "text/plain": [
       "<Figure size 432x288 with 1 Axes>"
      ]
     },
     "metadata": {
      "needs_background": "light"
     },
     "output_type": "display_data"
    }
   ],
   "source": [
    "plt.plot(range(y_train.shape[0]),prediction.detach().numpy())"
   ]
  },
  {
   "cell_type": "code",
   "execution_count": 64,
   "metadata": {},
   "outputs": [
    {
     "data": {
      "text/plain": [
       "[<matplotlib.lines.Line2D at 0x7f4c3bd9e9a0>]"
      ]
     },
     "execution_count": 64,
     "metadata": {},
     "output_type": "execute_result"
    },
    {
     "data": {
      "image/png": "[encoded data removed]",
      "text/plain": [
       "<Figure size 432x288 with 1 Axes>"
      ]
     },
     "metadata": {
      "needs_background": "light"
     },
     "output_type": "display_data"
    }
   ],
   "source": [
    "plt.plot(range(y_train.shape[0]),y_train)"
   ]
  },
  {
   "cell_type": "code",
   "execution_count": 45,
   "metadata": {
    "scrolled": true
   },
   "outputs": [
    {
     "data": {
      "text/plain": [
       "(array([3281.,  361.,  239.,  176.,  153.,  146.,  133.,  102.,   81.,\n",
       "         458.]),\n",
       " array([0.        , 0.25849625, 0.5169925 , 0.77548875, 1.033985  ,\n",
       "        1.29248125, 1.5509775 , 1.80947375, 2.06797   , 2.32646625,\n",
       "        2.5849625 ]),\n",
       " <BarContainer object of 10 artists>)"
      ]
     },
     "execution_count": 45,
     "metadata": {},
     "output_type": "execute_result"
    },
    {
     "data": {
      "image/png": "[encoded data removed]",
      "text/plain": [
       "<Figure size 432x288 with 1 Axes>"
      ]
     },
     "metadata": {
      "needs_background": "light"
     },
     "output_type": "display_data"
    }
   ],
   "source": [
    "plt.hist(y_train)"
   ]
  },
  {
   "cell_type": "code",
   "execution_count": 43,
   "metadata": {
    "scrolled": true
   },
   "outputs": [
    {
     "data": {
      "text/plain": [
       "(array([353.,  37.,  25.,  18.,  21.,  22.,  13.,  10.,  15.,  56.]),\n",
       " array([0.        , 0.25849625, 0.5169925 , 0.77548875, 1.033985  ,\n",
       "        1.29248125, 1.5509775 , 1.80947375, 2.06797   , 2.32646625,\n",
       "        2.5849625 ]),\n",
       " <BarContainer object of 10 artists>)"
      ]
     },
     "execution_count": 43,
     "metadata": {},
     "output_type": "execute_result"
    },
    {
     "data": {
      "image/png": "[encoded data removed]",
      "text/plain": [
       "<Figure size 432x288 with 1 Axes>"
      ]
     },
     "metadata": {
      "needs_background": "light"
     },
     "output_type": "display_data"
    }
   ],
   "source": [
    "plt.hist(y_test)"
   ]
  },
  {
   "cell_type": "code",
   "execution_count": 7,
   "metadata": {},
   "outputs": [
    {
     "ename": "RuntimeError",
     "evalue": "Found dtype Double but expected Float\nException raised from compute_types at /pytorch/aten/src/ATen/native/TensorIterator.cpp:183 (most recent call first):\nframe #0: c10::Error::Error(c10::SourceLocation, std::string) + 0x42 (0x7f4ad7dc71e2 in /home/jingjinglab/cw/miniconda3/envs/Harry_env/lib/python3.8/site-packages/torch/lib/libc10.so)\nframe #1: at::TensorIterator::compute_types(at::TensorIteratorConfig const&) + 0x259 (0x7f4b13cb2849 in /home/jingjinglab/cw/miniconda3/envs/Harry_env/lib/python3.8/site-packages/torch/lib/libtorch_cpu.so)\nframe #2: at::TensorIterator::build(at::TensorIteratorConfig&) + 0x6b (0x7f4b13cb5feb in /home/jingjinglab/cw/miniconda3/envs/Harry_env/lib/python3.8/site-packages/torch/lib/libtorch_cpu.so)\nframe #3: at::TensorIterator::TensorIterator(at::TensorIteratorConfig&) + 0xdd (0x7f4b13cb665d in /home/jingjinglab/cw/miniconda3/envs/Harry_env/lib/python3.8/site-packages/torch/lib/libtorch_cpu.so)\nframe #4: at::native::mse_loss_backward_out(at::Tensor&, at::Tensor const&, at::Tensor const&, at::Tensor const&, long) + 0x18a (0x7f4b13b1b2ba in /home/jingjinglab/cw/miniconda3/envs/Harry_env/lib/python3.8/site-packages/torch/lib/libtorch_cpu.so)\nframe #5: at::native::mse_loss_backward(at::Tensor const&, at::Tensor const&, at::Tensor const&, long) + 0x90 (0x7f4b13b17ce0 in /home/jingjinglab/cw/miniconda3/envs/Harry_env/lib/python3.8/site-packages/torch/lib/libtorch_cpu.so)\nframe #6: <unknown function> + 0x10fa2f9 (0x7f4b13f2a2f9 in /home/jingjinglab/cw/miniconda3/envs/Harry_env/lib/python3.8/site-packages/torch/lib/libtorch_cpu.so)\nframe #7: <unknown function> + 0xa9ac76 (0x7f4b138cac76 in /home/jingjinglab/cw/miniconda3/envs/Harry_env/lib/python3.8/site-packages/torch/lib/libtorch_cpu.so)\nframe #8: at::mse_loss_backward(at::Tensor const&, at::Tensor const&, at::Tensor const&, long) + 0x119 (0x7f4b13fda949 in /home/jingjinglab/cw/miniconda3/envs/Harry_env/lib/python3.8/site-packages/torch/lib/libtorch_cpu.so)\nframe #9: <unknown function> + 0x2e03469 (0x7f4b15c33469 in /home/jingjinglab/cw/miniconda3/envs/Harry_env/lib/python3.8/site-packages/torch/lib/libtorch_cpu.so)\nframe #10: <unknown function> + 0xa9ac76 (0x7f4b138cac76 in /home/jingjinglab/cw/miniconda3/envs/Harry_env/lib/python3.8/site-packages/torch/lib/libtorch_cpu.so)\nframe #11: at::mse_loss_backward(at::Tensor const&, at::Tensor const&, at::Tensor const&, long) + 0x119 (0x7f4b13fda949 in /home/jingjinglab/cw/miniconda3/envs/Harry_env/lib/python3.8/site-packages/torch/lib/libtorch_cpu.so)\nframe #12: torch::autograd::generated::MseLossBackward::apply(std::vector<at::Tensor, std::allocator<at::Tensor> >&&) + 0x1af (0x7f4b15b6f0cf in /home/jingjinglab/cw/miniconda3/envs/Harry_env/lib/python3.8/site-packages/torch/lib/libtorch_cpu.so)\nframe #13: <unknown function> + 0x3375bb7 (0x7f4b161a5bb7 in /home/jingjinglab/cw/miniconda3/envs/Harry_env/lib/python3.8/site-packages/torch/lib/libtorch_cpu.so)\nframe #14: torch::autograd::Engine::evaluate_function(std::shared_ptr<torch::autograd::GraphTask>&, torch::autograd::Node*, torch::autograd::InputBuffer&, std::shared_ptr<torch::autograd::ReadyQueue> const&) + 0x1400 (0x7f4b161a1400 in /home/jingjinglab/cw/miniconda3/envs/Harry_env/lib/python3.8/site-packages/torch/lib/libtorch_cpu.so)\nframe #15: torch::autograd::Engine::thread_main(std::shared_ptr<torch::autograd::GraphTask> const&) + 0x451 (0x7f4b161a1fa1 in /home/jingjinglab/cw/miniconda3/envs/Harry_env/lib/python3.8/site-packages/torch/lib/libtorch_cpu.so)\nframe #16: torch::autograd::Engine::execute_with_graph_task(std::shared_ptr<torch::autograd::GraphTask> const&, std::shared_ptr<torch::autograd::Node>) + 0x37c (0x7f4b1619f6bc in /home/jingjinglab/cw/miniconda3/envs/Harry_env/lib/python3.8/site-packages/torch/lib/libtorch_cpu.so)\nframe #17: torch::autograd::python::PythonEngine::execute_with_graph_task(std::shared_ptr<torch::autograd::GraphTask> const&, std::shared_ptr<torch::autograd::Node>) + 0x3c (0x7f4b23935cac in /home/jingjinglab/cw/miniconda3/envs/Harry_env/lib/python3.8/site-packages/torch/lib/libtorch_python.so)\nframe #18: torch::autograd::Engine::execute(std::vector<torch::autograd::Edge, std::allocator<torch::autograd::Edge> > const&, std::vector<at::Tensor, std::allocator<at::Tensor> > const&, bool, bool, std::vector<torch::autograd::Edge, std::allocator<torch::autograd::Edge> > const&) + 0x803 (0x7f4b1619e9f3 in /home/jingjinglab/cw/miniconda3/envs/Harry_env/lib/python3.8/site-packages/torch/lib/libtorch_cpu.so)\nframe #19: torch::autograd::python::PythonEngine::execute(std::vector<torch::autograd::Edge, std::allocator<torch::autograd::Edge> > const&, std::vector<at::Tensor, std::allocator<at::Tensor> > const&, bool, bool, std::vector<torch::autograd::Edge, std::allocator<torch::autograd::Edge> > const&) + 0x4e (0x7f4b23935aae in /home/jingjinglab/cw/miniconda3/envs/Harry_env/lib/python3.8/site-packages/torch/lib/libtorch_python.so)\nframe #20: THPEngine_run_backward(THPEngine*, _object*, _object*) + 0x984 (0x7f4b239366c4 in /home/jingjinglab/cw/miniconda3/envs/Harry_env/lib/python3.8/site-packages/torch/lib/libtorch_python.so)\nframe #21: PyCFunction_Call + 0x56 (0x559dacfeef76 in /home/jingjinglab/cw/miniconda3/envs/Harry_env/bin/python)\nframe #22: _PyObject_MakeTpCall + 0x22f (0x559dacfac85f in /home/jingjinglab/cw/miniconda3/envs/Harry_env/bin/python)\nframe #23: _PyEval_EvalFrameDefault + 0x11d0 (0x559dad030b90 in /home/jingjinglab/cw/miniconda3/envs/Harry_env/bin/python)\nframe #24: _PyEval_EvalCodeWithName + 0x2d2 (0x559dacff9a92 in /home/jingjinglab/cw/miniconda3/envs/Harry_env/bin/python)\nframe #25: _PyFunction_Vectorcall + 0x1e3 (0x559dacffa943 in /home/jingjinglab/cw/miniconda3/envs/Harry_env/bin/python)\nframe #26: <unknown function> + 0x10077f (0x559dacf6f77f in /home/jingjinglab/cw/miniconda3/envs/Harry_env/bin/python)\nframe #27: _PyEval_EvalCodeWithName + 0x2d2 (0x559dacff9a92 in /home/jingjinglab/cw/miniconda3/envs/Harry_env/bin/python)\nframe #28: _PyFunction_Vectorcall + 0x1e3 (0x559dacffa943 in /home/jingjinglab/cw/miniconda3/envs/Harry_env/bin/python)\nframe #29: <unknown function> + 0x10075e (0x559dacf6f75e in /home/jingjinglab/cw/miniconda3/envs/Harry_env/bin/python)\nframe #30: _PyEval_EvalCodeWithName + 0x2d2 (0x559dacff9a92 in /home/jingjinglab/cw/miniconda3/envs/Harry_env/bin/python)\nframe #31: PyEval_EvalCodeEx + 0x44 (0x559dacffa754 in /home/jingjinglab/cw/miniconda3/envs/Harry_env/bin/python)\nframe #32: PyEval_EvalCode + 0x1c (0x559dad088edc in /home/jingjinglab/cw/miniconda3/envs/Harry_env/bin/python)\nframe #33: <unknown function> + 0x24f083 (0x559dad0be083 in /home/jingjinglab/cw/miniconda3/envs/Harry_env/bin/python)\nframe #34: <unknown function> + 0x140699 (0x559dacfaf699 in /home/jingjinglab/cw/miniconda3/envs/Harry_env/bin/python)\nframe #35: <unknown function> + 0xfeb84 (0x559dacf6db84 in /home/jingjinglab/cw/miniconda3/envs/Harry_env/bin/python)\nframe #36: _PyGen_Send + 0x149 (0x559dacff3dc9 in /home/jingjinglab/cw/miniconda3/envs/Harry_env/bin/python)\nframe #37: _PyEval_EvalFrameDefault + 0x49a3 (0x559dad034363 in /home/jingjinglab/cw/miniconda3/envs/Harry_env/bin/python)\nframe #38: _PyGen_Send + 0x149 (0x559dacff3dc9 in /home/jingjinglab/cw/miniconda3/envs/Harry_env/bin/python)\nframe #39: _PyEval_EvalFrameDefault + 0x49a3 (0x559dad034363 in /home/jingjinglab/cw/miniconda3/envs/Harry_env/bin/python)\nframe #40: _PyGen_Send + 0x149 (0x559dacff3dc9 in /home/jingjinglab/cw/miniconda3/envs/Harry_env/bin/python)\nframe #41: <unknown function> + 0x1701cd (0x559dacfdf1cd in /home/jingjinglab/cw/miniconda3/envs/Harry_env/bin/python)\nframe #42: <unknown function> + 0x10075e (0x559dacf6f75e in /home/jingjinglab/cw/miniconda3/envs/Harry_env/bin/python)\nframe #43: _PyFunction_Vectorcall + 0x10b (0x559dacffa86b in /home/jingjinglab/cw/miniconda3/envs/Harry_env/bin/python)\nframe #44: <unknown function> + 0xfeb84 (0x559dacf6db84 in /home/jingjinglab/cw/miniconda3/envs/Harry_env/bin/python)\nframe #45: _PyFunction_Vectorcall + 0x10b (0x559dacffa86b in /home/jingjinglab/cw/miniconda3/envs/Harry_env/bin/python)\nframe #46: <unknown function> + 0x10075e (0x559dacf6f75e in /home/jingjinglab/cw/miniconda3/envs/Harry_env/bin/python)\nframe #47: _PyEval_EvalCodeWithName + 0x2d2 (0x559dacff9a92 in /home/jingjinglab/cw/miniconda3/envs/Harry_env/bin/python)\nframe #48: _PyFunction_Vectorcall + 0x1e3 (0x559dacffa943 in /home/jingjinglab/cw/miniconda3/envs/Harry_env/bin/python)\nframe #49: <unknown function> + 0x18be79 (0x559dacffae79 in /home/jingjinglab/cw/miniconda3/envs/Harry_env/bin/python)\nframe #50: PyVectorcall_Call + 0x71 (0x559dacfac041 in /home/jingjinglab/cw/miniconda3/envs/Harry_env/bin/python)\nframe #51: _PyEval_EvalFrameDefault + 0x1fdb (0x559dad03199b in /home/jingjinglab/cw/miniconda3/envs/Harry_env/bin/python)\nframe #52: _PyEval_EvalCodeWithName + 0x659 (0x559dacff9e19 in /home/jingjinglab/cw/miniconda3/envs/Harry_env/bin/python)\nframe #53: <unknown function> + 0x18bd20 (0x559dacffad20 in /home/jingjinglab/cw/miniconda3/envs/Harry_env/bin/python)\nframe #54: <unknown function> + 0x10011a (0x559dacf6f11a in /home/jingjinglab/cw/miniconda3/envs/Harry_env/bin/python)\nframe #55: <unknown function> + 0x215056 (0x559dad084056 in /home/jingjinglab/cw/miniconda3/envs/Harry_env/bin/python)\nframe #56: <unknown function> + 0x1847f3 (0x559dacff37f3 in /home/jingjinglab/cw/miniconda3/envs/Harry_env/bin/python)\nframe #57: <unknown function> + 0x140699 (0x559dacfaf699 in /home/jingjinglab/cw/miniconda3/envs/Harry_env/bin/python)\nframe #58: <unknown function> + 0xfeb84 (0x559dacf6db84 in /home/jingjinglab/cw/miniconda3/envs/Harry_env/bin/python)\nframe #59: _PyEval_EvalCodeWithName + 0x659 (0x559dacff9e19 in /home/jingjinglab/cw/miniconda3/envs/Harry_env/bin/python)\nframe #60: _PyFunction_Vectorcall + 0x1e3 (0x559dacffa943 in /home/jingjinglab/cw/miniconda3/envs/Harry_env/bin/python)\nframe #61: <unknown function> + 0x10075e (0x559dacf6f75e in /home/jingjinglab/cw/miniconda3/envs/Harry_env/bin/python)\nframe #62: <unknown function> + 0x215056 (0x559dad084056 in /home/jingjinglab/cw/miniconda3/envs/Harry_env/bin/python)\nframe #63: <unknown function> + 0x1847f3 (0x559dacff37f3 in /home/jingjinglab/cw/miniconda3/envs/Harry_env/bin/python)\n",
     "output_type": "error",
     "traceback": [
      "\u001b[0;31m---------------------------------------------------------------------------\u001b[0m",
      "\u001b[0;31mRuntimeError\u001b[0m                              Traceback (most recent call last)",
      "\u001b[0;32m<ipython-input-7-3b9cb8057871>\u001b[0m in \u001b[0;36m<module>\u001b[0;34m\u001b[0m\n\u001b[1;32m     46\u001b[0m \u001b[0;34m\u001b[0m\u001b[0m\n\u001b[1;32m     47\u001b[0m         \u001b[0moptimizer\u001b[0m\u001b[0;34m.\u001b[0m\u001b[0mzero_grad\u001b[0m\u001b[0;34m(\u001b[0m\u001b[0;34m)\u001b[0m   \u001b[0;31m# clear gradients for next train\u001b[0m\u001b[0;34m\u001b[0m\u001b[0;34m\u001b[0m\u001b[0m\n\u001b[0;32m---> 48\u001b[0;31m         \u001b[0mloss\u001b[0m\u001b[0;34m.\u001b[0m\u001b[0mbackward\u001b[0m\u001b[0;34m(\u001b[0m\u001b[0;34m)\u001b[0m         \u001b[0;31m# backpropagation, compute gradients\u001b[0m\u001b[0;34m\u001b[0m\u001b[0;34m\u001b[0m\u001b[0m\n\u001b[0m\u001b[1;32m     49\u001b[0m         \u001b[0moptimizer\u001b[0m\u001b[0;34m.\u001b[0m\u001b[0mstep\u001b[0m\u001b[0;34m(\u001b[0m\u001b[0;34m)\u001b[0m        \u001b[0;31m# apply gradients\u001b[0m\u001b[0;34m\u001b[0m\u001b[0;34m\u001b[0m\u001b[0m\n\u001b[1;32m     50\u001b[0m \u001b[0;34m\u001b[0m\u001b[0m\n",
      "\u001b[0;32m~/cw/miniconda3/envs/Harry_env/lib/python3.8/site-packages/torch/tensor.py\u001b[0m in \u001b[0;36mbackward\u001b[0;34m(self, gradient, retain_graph, create_graph)\u001b[0m\n\u001b[1;32m    183\u001b[0m                 \u001b[0mproducts\u001b[0m\u001b[0;34m.\u001b[0m \u001b[0mDefaults\u001b[0m \u001b[0mto\u001b[0m\u001b[0;31m \u001b[0m\u001b[0;31m`\u001b[0m\u001b[0;31m`\u001b[0m\u001b[0;32mFalse\u001b[0m\u001b[0;31m`\u001b[0m\u001b[0;31m`\u001b[0m\u001b[0;34m.\u001b[0m\u001b[0;34m\u001b[0m\u001b[0;34m\u001b[0m\u001b[0m\n\u001b[1;32m    184\u001b[0m         \"\"\"\n\u001b[0;32m--> 185\u001b[0;31m         \u001b[0mtorch\u001b[0m\u001b[0;34m.\u001b[0m\u001b[0mautograd\u001b[0m\u001b[0;34m.\u001b[0m\u001b[0mbackward\u001b[0m\u001b[0;34m(\u001b[0m\u001b[0mself\u001b[0m\u001b[0;34m,\u001b[0m \u001b[0mgradient\u001b[0m\u001b[0;34m,\u001b[0m \u001b[0mretain_graph\u001b[0m\u001b[0;34m,\u001b[0m \u001b[0mcreate_graph\u001b[0m\u001b[0;34m)\u001b[0m\u001b[0;34m\u001b[0m\u001b[0;34m\u001b[0m\u001b[0m\n\u001b[0m\u001b[1;32m    186\u001b[0m \u001b[0;34m\u001b[0m\u001b[0m\n\u001b[1;32m    187\u001b[0m     \u001b[0;32mdef\u001b[0m \u001b[0mregister_hook\u001b[0m\u001b[0;34m(\u001b[0m\u001b[0mself\u001b[0m\u001b[0;34m,\u001b[0m \u001b[0mhook\u001b[0m\u001b[0;34m)\u001b[0m\u001b[0;34m:\u001b[0m\u001b[0;34m\u001b[0m\u001b[0;34m\u001b[0m\u001b[0m\n",
      "\u001b[0;32m~/cw/miniconda3/envs/Harry_env/lib/python3.8/site-packages/torch/autograd/__init__.py\u001b[0m in \u001b[0;36mbackward\u001b[0;34m(tensors, grad_tensors, retain_graph, create_graph, grad_variables)\u001b[0m\n\u001b[1;32m    123\u001b[0m         \u001b[0mretain_graph\u001b[0m \u001b[0;34m=\u001b[0m \u001b[0mcreate_graph\u001b[0m\u001b[0;34m\u001b[0m\u001b[0;34m\u001b[0m\u001b[0m\n\u001b[1;32m    124\u001b[0m \u001b[0;34m\u001b[0m\u001b[0m\n\u001b[0;32m--> 125\u001b[0;31m     Variable._execution_engine.run_backward(\n\u001b[0m\u001b[1;32m    126\u001b[0m         \u001b[0mtensors\u001b[0m\u001b[0;34m,\u001b[0m \u001b[0mgrad_tensors\u001b[0m\u001b[0;34m,\u001b[0m \u001b[0mretain_graph\u001b[0m\u001b[0;34m,\u001b[0m \u001b[0mcreate_graph\u001b[0m\u001b[0;34m,\u001b[0m\u001b[0;34m\u001b[0m\u001b[0;34m\u001b[0m\u001b[0m\n\u001b[1;32m    127\u001b[0m         allow_unreachable=True)  # allow_unreachable flag\n",
      "\u001b[0;31mRuntimeError\u001b[0m: Found dtype Double but expected Float\nException raised from compute_types at /pytorch/aten/src/ATen/native/TensorIterator.cpp:183 (most recent call first):\nframe #0: c10::Error::Error(c10::SourceLocation, std::string) + 0x42 (0x7f4ad7dc71e2 in /home/jingjinglab/cw/miniconda3/envs/Harry_env/lib/python3.8/site-packages/torch/lib/libc10.so)\nframe #1: at::TensorIterator::compute_types(at::TensorIteratorConfig const&) + 0x259 (0x7f4b13cb2849 in /home/jingjinglab/cw/miniconda3/envs/Harry_env/lib/python3.8/site-packages/torch/lib/libtorch_cpu.so)\nframe #2: at::TensorIterator::build(at::TensorIteratorConfig&) + 0x6b (0x7f4b13cb5feb in /home/jingjinglab/cw/miniconda3/envs/Harry_env/lib/python3.8/site-packages/torch/lib/libtorch_cpu.so)\nframe #3: at::TensorIterator::TensorIterator(at::TensorIteratorConfig&) + 0xdd (0x7f4b13cb665d in /home/jingjinglab/cw/miniconda3/envs/Harry_env/lib/python3.8/site-packages/torch/lib/libtorch_cpu.so)\nframe #4: at::native::mse_loss_backward_out(at::Tensor&, at::Tensor const&, at::Tensor const&, at::Tensor const&, long) + 0x18a (0x7f4b13b1b2ba in /home/jingjinglab/cw/miniconda3/envs/Harry_env/lib/python3.8/site-packages/torch/lib/libtorch_cpu.so)\nframe #5: at::native::mse_loss_backward(at::Tensor const&, at::Tensor const&, at::Tensor const&, long) + 0x90 (0x7f4b13b17ce0 in /home/jingjinglab/cw/miniconda3/envs/Harry_env/lib/python3.8/site-packages/torch/lib/libtorch_cpu.so)\nframe #6: <unknown function> + 0x10fa2f9 (0x7f4b13f2a2f9 in /home/jingjinglab/cw/miniconda3/envs/Harry_env/lib/python3.8/site-packages/torch/lib/libtorch_cpu.so)\nframe #7: <unknown function> + 0xa9ac76 (0x7f4b138cac76 in /home/jingjinglab/cw/miniconda3/envs/Harry_env/lib/python3.8/site-packages/torch/lib/libtorch_cpu.so)\nframe #8: at::mse_loss_backward(at::Tensor const&, at::Tensor const&, at::Tensor const&, long) + 0x119 (0x7f4b13fda949 in /home/jingjinglab/cw/miniconda3/envs/Harry_env/lib/python3.8/site-packages/torch/lib/libtorch_cpu.so)\nframe #9: <unknown function> + 0x2e03469 (0x7f4b15c33469 in /home/jingjinglab/cw/miniconda3/envs/Harry_env/lib/python3.8/site-packages/torch/lib/libtorch_cpu.so)\nframe #10: <unknown function> + 0xa9ac76 (0x7f4b138cac76 in /home/jingjinglab/cw/miniconda3/envs/Harry_env/lib/python3.8/site-packages/torch/lib/libtorch_cpu.so)\nframe #11: at::mse_loss_backward(at::Tensor const&, at::Tensor const&, at::Tensor const&, long) + 0x119 (0x7f4b13fda949 in /home/jingjinglab/cw/miniconda3/envs/Harry_env/lib/python3.8/site-packages/torch/lib/libtorch_cpu.so)\nframe #12: torch::autograd::generated::MseLossBackward::apply(std::vector<at::Tensor, std::allocator<at::Tensor> >&&) + 0x1af (0x7f4b15b6f0cf in /home/jingjinglab/cw/miniconda3/envs/Harry_env/lib/python3.8/site-packages/torch/lib/libtorch_cpu.so)\nframe #13: <unknown function> + 0x3375bb7 (0x7f4b161a5bb7 in /home/jingjinglab/cw/miniconda3/envs/Harry_env/lib/python3.8/site-packages/torch/lib/libtorch_cpu.so)\nframe #14: torch::autograd::Engine::evaluate_function(std::shared_ptr<torch::autograd::GraphTask>&, torch::autograd::Node*, torch::autograd::InputBuffer&, std::shared_ptr<torch::autograd::ReadyQueue> const&) + 0x1400 (0x7f4b161a1400 in /home/jingjinglab/cw/miniconda3/envs/Harry_env/lib/python3.8/site-packages/torch/lib/libtorch_cpu.so)\nframe #15: torch::autograd::Engine::thread_main(std::shared_ptr<torch::autograd::GraphTask> const&) + 0x451 (0x7f4b161a1fa1 in /home/jingjinglab/cw/miniconda3/envs/Harry_env/lib/python3.8/site-packages/torch/lib/libtorch_cpu.so)\nframe #16: torch::autograd::Engine::execute_with_graph_task(std::shared_ptr<torch::autograd::GraphTask> const&, std::shared_ptr<torch::autograd::Node>) + 0x37c (0x7f4b1619f6bc in /home/jingjinglab/cw/miniconda3/envs/Harry_env/lib/python3.8/site-packages/torch/lib/libtorch_cpu.so)\nframe #17: torch::autograd::python::PythonEngine::execute_with_graph_task(std::shared_ptr<torch::autograd::GraphTask> const&, std::shared_ptr<torch::autograd::Node>) + 0x3c (0x7f4b23935cac in /home/jingjinglab/cw/miniconda3/envs/Harry_env/lib/python3.8/site-packages/torch/lib/libtorch_python.so)\nframe #18: torch::autograd::Engine::execute(std::vector<torch::autograd::Edge, std::allocator<torch::autograd::Edge> > const&, std::vector<at::Tensor, std::allocator<at::Tensor> > const&, bool, bool, std::vector<torch::autograd::Edge, std::allocator<torch::autograd::Edge> > const&) + 0x803 (0x7f4b1619e9f3 in /home/jingjinglab/cw/miniconda3/envs/Harry_env/lib/python3.8/site-packages/torch/lib/libtorch_cpu.so)\nframe #19: torch::autograd::python::PythonEngine::execute(std::vector<torch::autograd::Edge, std::allocator<torch::autograd::Edge> > const&, std::vector<at::Tensor, std::allocator<at::Tensor> > const&, bool, bool, std::vector<torch::autograd::Edge, std::allocator<torch::autograd::Edge> > const&) + 0x4e (0x7f4b23935aae in /home/jingjinglab/cw/miniconda3/envs/Harry_env/lib/python3.8/site-packages/torch/lib/libtorch_python.so)\nframe #20: THPEngine_run_backward(THPEngine*, _object*, _object*) + 0x984 (0x7f4b239366c4 in /home/jingjinglab/cw/miniconda3/envs/Harry_env/lib/python3.8/site-packages/torch/lib/libtorch_python.so)\nframe #21: PyCFunction_Call + 0x56 (0x559dacfeef76 in /home/jingjinglab/cw/miniconda3/envs/Harry_env/bin/python)\nframe #22: _PyObject_MakeTpCall + 0x22f (0x559dacfac85f in /home/jingjinglab/cw/miniconda3/envs/Harry_env/bin/python)\nframe #23: _PyEval_EvalFrameDefault + 0x11d0 (0x559dad030b90 in /home/jingjinglab/cw/miniconda3/envs/Harry_env/bin/python)\nframe #24: _PyEval_EvalCodeWithName + 0x2d2 (0x559dacff9a92 in /home/jingjinglab/cw/miniconda3/envs/Harry_env/bin/python)\nframe #25: _PyFunction_Vectorcall + 0x1e3 (0x559dacffa943 in /home/jingjinglab/cw/miniconda3/envs/Harry_env/bin/python)\nframe #26: <unknown function> + 0x10077f (0x559dacf6f77f in /home/jingjinglab/cw/miniconda3/envs/Harry_env/bin/python)\nframe #27: _PyEval_EvalCodeWithName + 0x2d2 (0x559dacff9a92 in /home/jingjinglab/cw/miniconda3/envs/Harry_env/bin/python)\nframe #28: _PyFunction_Vectorcall + 0x1e3 (0x559dacffa943 in /home/jingjinglab/cw/miniconda3/envs/Harry_env/bin/python)\nframe #29: <unknown function> + 0x10075e (0x559dacf6f75e in /home/jingjinglab/cw/miniconda3/envs/Harry_env/bin/python)\nframe #30: _PyEval_EvalCodeWithName + 0x2d2 (0x559dacff9a92 in /home/jingjinglab/cw/miniconda3/envs/Harry_env/bin/python)\nframe #31: PyEval_EvalCodeEx + 0x44 (0x559dacffa754 in /home/jingjinglab/cw/miniconda3/envs/Harry_env/bin/python)\nframe #32: PyEval_EvalCode + 0x1c (0x559dad088edc in /home/jingjinglab/cw/miniconda3/envs/Harry_env/bin/python)\nframe #33: <unknown function> + 0x24f083 (0x559dad0be083 in /home/jingjinglab/cw/miniconda3/envs/Harry_env/bin/python)\nframe #34: <unknown function> + 0x140699 (0x559dacfaf699 in /home/jingjinglab/cw/miniconda3/envs/Harry_env/bin/python)\nframe #35: <unknown function> + 0xfeb84 (0x559dacf6db84 in /home/jingjinglab/cw/miniconda3/envs/Harry_env/bin/python)\nframe #36: _PyGen_Send + 0x149 (0x559dacff3dc9 in /home/jingjinglab/cw/miniconda3/envs/Harry_env/bin/python)\nframe #37: _PyEval_EvalFrameDefault + 0x49a3 (0x559dad034363 in /home/jingjinglab/cw/miniconda3/envs/Harry_env/bin/python)\nframe #38: _PyGen_Send + 0x149 (0x559dacff3dc9 in /home/jingjinglab/cw/miniconda3/envs/Harry_env/bin/python)\nframe #39: _PyEval_EvalFrameDefault + 0x49a3 (0x559dad034363 in /home/jingjinglab/cw/miniconda3/envs/Harry_env/bin/python)\nframe #40: _PyGen_Send + 0x149 (0x559dacff3dc9 in /home/jingjinglab/cw/miniconda3/envs/Harry_env/bin/python)\nframe #41: <unknown function> + 0x1701cd (0x559dacfdf1cd in /home/jingjinglab/cw/miniconda3/envs/Harry_env/bin/python)\nframe #42: <unknown function> + 0x10075e (0x559dacf6f75e in /home/jingjinglab/cw/miniconda3/envs/Harry_env/bin/python)\nframe #43: _PyFunction_Vectorcall + 0x10b (0x559dacffa86b in /home/jingjinglab/cw/miniconda3/envs/Harry_env/bin/python)\nframe #44: <unknown function> + 0xfeb84 (0x559dacf6db84 in /home/jingjinglab/cw/miniconda3/envs/Harry_env/bin/python)\nframe #45: _PyFunction_Vectorcall + 0x10b (0x559dacffa86b in /home/jingjinglab/cw/miniconda3/envs/Harry_env/bin/python)\nframe #46: <unknown function> + 0x10075e (0x559dacf6f75e in /home/jingjinglab/cw/miniconda3/envs/Harry_env/bin/python)\nframe #47: _PyEval_EvalCodeWithName + 0x2d2 (0x559dacff9a92 in /home/jingjinglab/cw/miniconda3/envs/Harry_env/bin/python)\nframe #48: _PyFunction_Vectorcall + 0x1e3 (0x559dacffa943 in /home/jingjinglab/cw/miniconda3/envs/Harry_env/bin/python)\nframe #49: <unknown function> + 0x18be79 (0x559dacffae79 in /home/jingjinglab/cw/miniconda3/envs/Harry_env/bin/python)\nframe #50: PyVectorcall_Call + 0x71 (0x559dacfac041 in /home/jingjinglab/cw/miniconda3/envs/Harry_env/bin/python)\nframe #51: _PyEval_EvalFrameDefault + 0x1fdb (0x559dad03199b in /home/jingjinglab/cw/miniconda3/envs/Harry_env/bin/python)\nframe #52: _PyEval_EvalCodeWithName + 0x659 (0x559dacff9e19 in /home/jingjinglab/cw/miniconda3/envs/Harry_env/bin/python)\nframe #53: <unknown function> + 0x18bd20 (0x559dacffad20 in /home/jingjinglab/cw/miniconda3/envs/Harry_env/bin/python)\nframe #54: <unknown function> + 0x10011a (0x559dacf6f11a in /home/jingjinglab/cw/miniconda3/envs/Harry_env/bin/python)\nframe #55: <unknown function> + 0x215056 (0x559dad084056 in /home/jingjinglab/cw/miniconda3/envs/Harry_env/bin/python)\nframe #56: <unknown function> + 0x1847f3 (0x559dacff37f3 in /home/jingjinglab/cw/miniconda3/envs/Harry_env/bin/python)\nframe #57: <unknown function> + 0x140699 (0x559dacfaf699 in /home/jingjinglab/cw/miniconda3/envs/Harry_env/bin/python)\nframe #58: <unknown function> + 0xfeb84 (0x559dacf6db84 in /home/jingjinglab/cw/miniconda3/envs/Harry_env/bin/python)\nframe #59: _PyEval_EvalCodeWithName + 0x659 (0x559dacff9e19 in /home/jingjinglab/cw/miniconda3/envs/Harry_env/bin/python)\nframe #60: _PyFunction_Vectorcall + 0x1e3 (0x559dacffa943 in /home/jingjinglab/cw/miniconda3/envs/Harry_env/bin/python)\nframe #61: <unknown function> + 0x10075e (0x559dacf6f75e in /home/jingjinglab/cw/miniconda3/envs/Harry_env/bin/python)\nframe #62: <unknown function> + 0x215056 (0x559dad084056 in /home/jingjinglab/cw/miniconda3/envs/Harry_env/bin/python)\nframe #63: <unknown function> + 0x1847f3 (0x559dacff37f3 in /home/jingjinglab/cw/miniconda3/envs/Harry_env/bin/python)\n"
     ]
    }
   ],
   "source": [
    "class Net(torch.nn.Module):\n",
    "    def __init__(self, n_feature, n_hidden, n_output):\n",
    "        super(Net, self).__init__()\n",
    "        self.hidden = torch.nn.Linear(n_feature, n_hidden)   # hidden layer\n",
    "        self.predict = torch.nn.Linear(n_hidden, n_output)   # output layer\n",
    "\n",
    "    def forward(self, x):\n",
    "        x = F.relu(self.hidden(x.float()))      # activation function for hidden layer\n",
    "        x = self.predict(x)             # linear output\n",
    "        return x\n",
    "\n",
    "net = Net(n_feature=84, n_hidden=200, n_output=1)     # define the network\n",
    "# print(net)  # net architecture\n",
    "optimizer = torch.optim.SGD(net.parameters(), lr=0.005)\n",
    "loss_func = torch.nn.MSELoss()  # this is for regression mean squared loss\n",
    "\n",
    "\n",
    "\n",
    "# train the network\n",
    "x, y = torch.from_numpy(X_train), torch.from_numpy(y_train)\n",
    "\n",
    "\n",
    "    \n",
    "BATCH_SIZE = 64\n",
    "EPOCH = 200\n",
    "\n",
    "torch_dataset = Data.TensorDataset(x, y)\n",
    "\n",
    "loader = Data.DataLoader(\n",
    "    dataset=torch_dataset, \n",
    "    batch_size=BATCH_SIZE, \n",
    "    shuffle=True, num_workers=2,)\n",
    "\n",
    "\n",
    "\n",
    "# start training\n",
    "for epoch in range(EPOCH):\n",
    "    for step, (batch_x, batch_y) in enumerate(loader): # for each training step\n",
    "        \n",
    "        b_x = Variable(batch_x)\n",
    "        b_y = Variable(batch_y)\n",
    "\n",
    "        prediction = net(b_x.float())     # input x and predict based on x\n",
    "\n",
    "        loss = loss_func(prediction, b_y)     # must be (1. nn output, 2. target)\n",
    "\n",
    "        optimizer.zero_grad()   # clear gradients for next train\n",
    "        loss.backward()         # backpropagation, compute gradients\n",
    "        optimizer.step()        # apply gradients\n",
    "\n",
    "        if step == 1:\n",
    "            # plot and show learning process\n",
    "            print(loss.data.numpy())"
   ]
  },
  {
   "cell_type": "code",
   "execution_count": 81,
   "metadata": {
    "scrolled": true
   },
   "outputs": [
    {
     "data": {
      "text/plain": [
       "tensor([[0.7562, 0.9837, 0.7929,  ..., 0.0000, 0.0000, 0.0000],\n",
       "        [0.7562, 0.9837, 0.7929,  ..., 0.0000, 0.0000, 0.0000],\n",
       "        [0.7562, 0.9837, 0.7929,  ..., 0.0000, 0.0000, 0.0000],\n",
       "        ...,\n",
       "        [0.8424, 0.9912, 0.6704,  ..., 0.0000, 0.0000, 0.0000],\n",
       "        [0.8424, 0.9912, 0.6704,  ..., 0.0000, 0.0000, 0.0000],\n",
       "        [0.8424, 0.9912, 0.6704,  ..., 0.0000, 0.0000, 0.0000]],\n",
       "       dtype=torch.float64)"
      ]
     },
     "execution_count": 81,
     "metadata": {},
     "output_type": "execute_result"
    }
   ],
   "source": [
    "Variable(torch.from_numpy(X_test))"
   ]
  },
  {
   "cell_type": "code",
   "execution_count": 84,
   "metadata": {},
   "outputs": [],
   "source": [
    "prediction = net(Variable(torch.from_numpy(X_test)).float())\n"
   ]
  },
  {
   "cell_type": "code",
   "execution_count": 87,
   "metadata": {},
   "outputs": [],
   "source": [
    "y_test= Variable(torch.from_numpy(y_test)).float()"
   ]
  },
  {
   "cell_type": "code",
   "execution_count": 85,
   "metadata": {},
   "outputs": [
    {
     "data": {
      "text/plain": [
       "torch.Size([570, 1])"
      ]
     },
     "execution_count": 85,
     "metadata": {},
     "output_type": "execute_result"
    }
   ],
   "source": [
    "prediction.shape"
   ]
  },
  {
   "cell_type": "code",
   "execution_count": 88,
   "metadata": {},
   "outputs": [
    {
     "data": {
      "text/plain": [
       "tensor(0.6798, grad_fn=<MeanBackward0>)"
      ]
     },
     "execution_count": 88,
     "metadata": {},
     "output_type": "execute_result"
    }
   ],
   "source": [
    "loss_func(y_test.float(),prediction) "
   ]
  },
  {
   "cell_type": "code",
   "execution_count": 47,
   "metadata": {
    "scrolled": false
   },
   "outputs": [
    {
     "ename": "NameError",
     "evalue": "name 'plt' is not defined",
     "output_type": "error",
     "traceback": [
      "\u001b[0;31m---------------------------------------------------------------------------\u001b[0m",
      "\u001b[0;31mNameError\u001b[0m                                 Traceback (most recent call last)",
      "\u001b[0;32m<ipython-input-47-4feedbe9a309>\u001b[0m in \u001b[0;36m<module>\u001b[0;34m\u001b[0m\n\u001b[0;32m----> 1\u001b[0;31m \u001b[0mplt\u001b[0m\u001b[0;34m.\u001b[0m\u001b[0mhist\u001b[0m\u001b[0;34m(\u001b[0m\u001b[0my_train\u001b[0m\u001b[0;34m.\u001b[0m\u001b[0mnumpy\u001b[0m\u001b[0;34m(\u001b[0m\u001b[0;34m)\u001b[0m\u001b[0;34m)\u001b[0m\u001b[0;34m\u001b[0m\u001b[0;34m\u001b[0m\u001b[0m\n\u001b[0m",
      "\u001b[0;31mNameError\u001b[0m: name 'plt' is not defined"
     ]
    }
   ],
   "source": [
    "plt.hist(y_train.numpy())"
   ]
  },
  {
   "cell_type": "code",
   "execution_count": 94,
   "metadata": {},
   "outputs": [
    {
     "data": {
      "text/plain": [
       "220855.97"
      ]
     },
     "execution_count": 94,
     "metadata": {},
     "output_type": "execute_result"
    }
   ],
   "source": [
    "MSE(prediction.detach().numpy(),y_test.numpy())"
   ]
  },
  {
   "cell_type": "code",
   "execution_count": 62,
   "metadata": {},
   "outputs": [
    {
     "ename": "TypeError",
     "evalue": "unhashable type: 'numpy.ndarray'",
     "output_type": "error",
     "traceback": [
      "\u001b[0;31m---------------------------------------------------------------------------\u001b[0m",
      "\u001b[0;31mTypeError\u001b[0m                                 Traceback (most recent call last)",
      "\u001b[0;32m<ipython-input-62-197ea38a0a69>\u001b[0m in \u001b[0;36m<module>\u001b[0;34m\u001b[0m\n\u001b[0;32m----> 1\u001b[0;31m \u001b[0mset\u001b[0m\u001b[0;34m(\u001b[0m\u001b[0mlist\u001b[0m\u001b[0;34m(\u001b[0m\u001b[0mprediction\u001b[0m\u001b[0;34m.\u001b[0m\u001b[0mdetach\u001b[0m\u001b[0;34m(\u001b[0m\u001b[0;34m)\u001b[0m\u001b[0;34m.\u001b[0m\u001b[0mnumpy\u001b[0m\u001b[0;34m(\u001b[0m\u001b[0;34m)\u001b[0m\u001b[0;34m)\u001b[0m\u001b[0;34m)\u001b[0m\u001b[0;34m\u001b[0m\u001b[0;34m\u001b[0m\u001b[0m\n\u001b[0m",
      "\u001b[0;31mTypeError\u001b[0m: unhashable type: 'numpy.ndarray'"
     ]
    }
   ],
   "source": []
  },
  {
   "cell_type": "code",
   "execution_count": null,
   "metadata": {},
   "outputs": [],
   "source": []
  },
  {
   "cell_type": "code",
   "execution_count": 58,
   "metadata": {},
   "outputs": [
    {
     "data": {
      "text/plain": [
       "(array([5.129e+03, 0.000e+00, 0.000e+00, 0.000e+00, 0.000e+00, 0.000e+00,\n",
       "        0.000e+00, 0.000e+00, 0.000e+00, 1.000e+00]),\n",
       " array([0.7813524 , 0.7831569 , 0.78496134, 0.7867659 , 0.78857034,\n",
       "        0.7903748 , 0.7921793 , 0.79398376, 0.7957883 , 0.79759276,\n",
       "        0.79939723], dtype=float32),\n",
       " <BarContainer object of 10 artists>)"
      ]
     },
     "execution_count": 58,
     "metadata": {},
     "output_type": "execute_result"
    },
    {
     "data": {
      "image/png": "[encoded data removed]",
      "text/plain": [
       "<Figure size 432x288 with 1 Axes>"
      ]
     },
     "metadata": {
      "needs_background": "light"
     },
     "output_type": "display_data"
    }
   ],
   "source": [
    "plt.hist(prediction.detach().numpy())"
   ]
  },
  {
   "cell_type": "code",
   "execution_count": 59,
   "metadata": {},
   "outputs": [
    {
     "data": {
      "text/plain": [
       "-35029413.75988282"
      ]
     },
     "execution_count": 59,
     "metadata": {},
     "output_type": "execute_result"
    }
   ],
   "source": [
    "r2_score(prediction.detach().numpy(),y.detach().numpy())"
   ]
  },
  {
   "cell_type": "code",
   "execution_count": 57,
   "metadata": {
    "scrolled": true
   },
   "outputs": [
    {
     "data": {
      "text/plain": [
       "(array([3728.,  303.,  194.,  154.,  110.,   70.,   63.,   50.,   41.,\n",
       "         417.]),\n",
       " array([0. , 0.5, 1. , 1.5, 2. , 2.5, 3. , 3.5, 4. , 4.5, 5. ]),\n",
       " <BarContainer object of 10 artists>)"
      ]
     },
     "execution_count": 57,
     "metadata": {},
     "output_type": "execute_result"
    },
    {
     "data": {
      "image/png": "[encoded data removed]",
      "text/plain": [
       "<Figure size 432x288 with 1 Axes>"
      ]
     },
     "metadata": {
      "needs_background": "light"
     },
     "output_type": "display_data"
    }
   ],
   "source": [
    "plt.hist(y.detach().numpy())"
   ]
  },
  {
   "cell_type": "markdown",
   "metadata": {},
   "source": [
    "### For this specific case, the below part is useless"
   ]
  },
  {
   "cell_type": "code",
   "execution_count": 27,
   "metadata": {
    "scrolled": true
   },
   "outputs": [],
   "source": [
    "# A function which can convert a 2d list to a 1d list\n",
    "\n",
    "def flatten_list(_2d_list):\n",
    "    flat_list = []\n",
    "    for element in _2d_list:\n",
    "        if type(element) is list:\n",
    "            for item in element:\n",
    "                flat_list.append(item)\n",
    "        else:\n",
    "            flat_list.append(element)\n",
    "    return flat_list\n",
    "\n",
    "\n",
    "\n",
    "\n"
   ]
  },
  {
   "cell_type": "code",
   "execution_count": 38,
   "metadata": {},
   "outputs": [],
   "source": []
  },
  {
   "cell_type": "code",
   "execution_count": 39,
   "metadata": {},
   "outputs": [
    {
     "data": {
      "text/plain": [
       "array([1, 0, 0, 0, 0, 0, 0, 0, 0, 0, 0, 0, 0, 0, 0], dtype=uint8)"
      ]
     },
     "execution_count": 39,
     "metadata": {},
     "output_type": "execute_result"
    }
   ],
   "source": []
  },
  {
   "cell_type": "code",
   "execution_count": 40,
   "metadata": {},
   "outputs": [
    {
     "name": "stdout",
     "output_type": "stream",
     "text": [
      "(424, 1)\n",
      "?\n",
      "(5700, 84)\n",
      "(5700,)\n"
     ]
    }
   ],
   "source": [
    "## \n",
    "## load data\n",
    "\n",
    "import scipy.io\n",
    "Connectomes = scipy.io.loadmat('../Cells2Connectomes/Connectomes.mat')\n",
    "Connectome_direct = Connectomes['C_dir']\n",
    "\n",
    "\n",
    "'''\n",
    "\n",
    "Region volumes, in a 424 vector, to get connectivity density, divide\n",
    "% each row in connectomes by each entry in the vector to get density. Units\n",
    "% are in 200 micron per vertex voxels.\n",
    "\n",
    "'''\n",
    "\n",
    "CellType_volumn = mat4py.loadmat('../Cells2Connectomes/Regional_Volumes.mat')\n",
    "CellType_volumn = CellType_volumn['region_vols']\n",
    "Celltype_volumn =np.array([np.array(xi) for xi in CellType_volumn])\n",
    "print(Celltype_volumn.shape)\n",
    "\n",
    "# Nomarlize by the entry\n",
    "\n",
    "Connectome_direct_density = Connectome_direct/Celltype_volumn\n",
    "\n",
    "\n",
    "Cell_type = mat4py.loadmat('../Cells2Connectomes/CellType_Maps.mat')\n",
    "Cell_type = Cell_type['cellmaps']\n",
    "\n",
    "\n",
    "\n",
    "Cell_type = mat4py.loadmat('../Cells2Connectomes/CellType_Maps.mat')\n",
    "Cell_type = Cell_type['cellmaps']\n",
    "Celltype_mtx =np.array([np.array(xi) for xi in Cell_type])\n",
    "Celltype_mtx.shape\n",
    "\n",
    "# Important : normalizing via the columns\n",
    "\n",
    "Celltype_mtx_norm = (Celltype_mtx.max(axis=0)-Celltype_mtx) / (Celltype_mtx.max(axis=0) - Celltype_mtx.min(axis=0) )\n",
    "\n",
    "Region_maps = mat4py.loadmat('../Cells2Connectomes/Region_Names.mat')\n",
    "Region_maps = Region_maps['region_names']\n",
    "Regionmaps_df = pd.DataFrame(Region_maps,columns = ['Anno1','Anno2','Anno3'])\n",
    "\n",
    "\n",
    "Region_maps_list = flatten_list(Region_maps)\n",
    "Region_maps_list\n",
    "\n",
    "Region_maps_array = np.array(Region_maps_list)\n",
    "Region_maps_array_2d = np.reshape(Region_maps_array, (3,212))\n",
    "#Region_maps\n",
    "\n",
    "\n",
    "Regionmaps_df['Anno1'] = Region_maps_array_2d[0]\n",
    "Regionmaps_df['Anno2'] = Region_maps_array_2d[1]\n",
    "Regionmaps_df['Anno3'] = Region_maps_array_2d[2]\n",
    "\n",
    "index_l = Regionmaps_df[Regionmaps_df['Anno2'].isin(['Isocortex'])].index\n",
    "list(index_l)\n",
    "index_r = [x+ 212 for x in index_l]\n",
    "index = list(index_l) + list(index_r)\n",
    "\n",
    "\n",
    "\n",
    "\n",
    "Distance = mat4py.loadmat('../Cells2Connectomes/Interregional_Distances.mat')\n",
    "Distance = Distance['D']\n",
    "Distance_mtx =np.array([np.array(xi) for xi in Distance])\n",
    "Distance_mtx.shape\n",
    "\n",
    "\n",
    "#encode the features\n",
    "\n",
    "s = pd.Series(Regionmaps_df['Anno2'].tolist()+Regionmaps_df['Anno2'].tolist())\n",
    "Region_encodes = pd.get_dummies(s)\n",
    "\n",
    "Region_encodes = Region_encodes.to_numpy()\n",
    "\n",
    "# random forest\n",
    "\n",
    "# build a df to store the information\n",
    "\n",
    "# instead use the subset, this time I am trying the whole, which might be not suitable for ML, but I just wanted a positive control\n",
    "from sklearn.ensemble import RandomForestRegressor\n",
    "from sklearn.metrics import r2_score\n",
    "from sklearn.metrics import mean_squared_error\n",
    "res_df =[]\n",
    "\n",
    "\n",
    "Target = []\n",
    "Dataset = []\n",
    "Celltype_mtx_norm_sub  = Celltype_mtx_norm[index]\n",
    "Connectome_direct_density_sub = Connectome_direct_density[index, :]\n",
    "Connectome_direct_density_sub = Connectome_direct_density_sub[:,index]\n",
    "Distance_mtx_sub = Distance_mtx[index,:]\n",
    "Distance_mtx_sub = Distance_mtx_sub[:,index]\n",
    "for i in range(Celltype_mtx_norm_sub.shape[0]):\n",
    "    for j in range(Celltype_mtx_norm_sub.shape[0]):\n",
    "        \n",
    "        if i >= 212 :\n",
    "            i_ = i - 212\n",
    "        else:\n",
    "            i_ = i\n",
    "        \n",
    "        if j >= 212 :\n",
    "            j_ = j - 212\n",
    "        else:\n",
    "            j_ = j\n",
    "        if (Regionmaps_df['Anno2'][i_] == Regionmaps_df['Anno2'][j_] ):\n",
    "            if ((i >= 212) == (j >= 212)):\n",
    "                \n",
    "                close_region = 1\n",
    "            else: \n",
    "                close_region = 0.5\n",
    "        else:\n",
    "            close_region = 0\n",
    "        \n",
    "        #print(i)\n",
    "        #print(j)\n",
    "        if i == j:\n",
    "            pass       \n",
    "        else:\n",
    "\n",
    "            #_Dataset_Training = np.concatenate((Dataset_Train_set[i,:],Dataset_Train_set[j,:]))\n",
    "            #Dataset_Training = np.stack((Dataset_Training,_Dataset_Training))\n",
    "            Dataset.append(np.concatenate((Celltype_mtx_norm_sub[i,:],Celltype_mtx_norm_sub[j,:],Distance_mtx_sub[i,j].reshape(1), \\\n",
    "                                        Celltype_volumn[i].reshape(1),Celltype_volumn[j].reshape(1),np.array(close_region).reshape(1), \\\n",
    "                                          Region_encodes[i],Region_encodes[j])))\n",
    "                                          #np.dot(Celltype_mtx_norm_sub[i,:].reshape(25,1),Celltype_mtx_norm_sub[j,:].reshape(1,25)).reshape(625))))#,\n",
    "                                       #   Celltype_mtx_norm_sub[i,:] - Celltype_mtx_norm_sub[j,:], \n",
    "                                       #np.log10(((Celltype_mtx_norm_sub[i,:]+ 0.0001 )/ (Celltype_mtx_norm_sub[j,:]+0.0001))+1))))\n",
    "            #Dataset.append(np.concatenate((Celltype_mtx_norm_sub[i,:],Celltype_mtx_norm_sub[j,:],\n",
    "            #                              Celltype_mtx_norm_sub[i,:] - Celltype_mtx_norm_sub[j,:], \n",
    "                                      # np.log10(((Celltype_mtx_norm_sub[i,:]+ 0.0001 )/ (Celltype_mtx_norm_sub[j,:]+0.0001))+1))))\n",
    "            Target.append(Connectome_direct_density_sub[i,j])\n",
    "            \n",
    "            \n",
    "print('?')\n",
    "Dataset = np.stack(Dataset)\n",
    "capped_Target = [5 if x>5 else x for x in Target]\n",
    "capped_Target = [math.log2(x+1) for x in capped_Target]\n",
    "Target =np.array([np.array(xi) for xi in capped_Target])   \n",
    "print(Dataset.shape)\n",
    "print(Target.shape)    \n",
    "X_train, X_test, y_train, y_test = train_test_split(Dataset, Target,test_size=.2,random_state =123)  \n"
   ]
  },
  {
   "cell_type": "code",
   "execution_count": 46,
   "metadata": {},
   "outputs": [],
   "source": [
    "from random import sample"
   ]
  },
  {
   "cell_type": "code",
   "execution_count": 15,
   "metadata": {},
   "outputs": [],
   "source": []
  },
  {
   "cell_type": "code",
   "execution_count": 16,
   "metadata": {
    "scrolled": true
   },
   "outputs": [],
   "source": [
    "index_l =Regionmaps_df.index"
   ]
  },
  {
   "cell_type": "code",
   "execution_count": 17,
   "metadata": {
    "scrolled": true
   },
   "outputs": [],
   "source": [
    "#Celltype_mtx_norm_sub[i,:].shape\n",
    "index_r = [x+ 212 for x in index_l]\n",
    "index = list(index_l) + list(index_r)\n"
   ]
  },
  {
   "cell_type": "code",
   "execution_count": 18,
   "metadata": {},
   "outputs": [
    {
     "data": {
      "text/plain": [
       "(424, 424)"
      ]
     },
     "execution_count": 18,
     "metadata": {},
     "output_type": "execute_result"
    }
   ],
   "source": []
  },
  {
   "cell_type": "code",
   "execution_count": 104,
   "metadata": {},
   "outputs": [
    {
     "data": {
      "text/plain": [
       "array([[0.        , 0.00032895, 0.0001421 , 0.00014328, 0.00047806],\n",
       "       [0.00032895, 0.        , 0.00014865, 0.0002179 , 0.0004057 ],\n",
       "       [0.0001421 , 0.00014865, 0.        , 0.00019598, 0.00015562],\n",
       "       [0.00014328, 0.0002179 , 0.00019598, 0.        , 0.00016551],\n",
       "       [0.00047806, 0.0004057 , 0.00015562, 0.00016551, 0.        ]])"
      ]
     },
     "execution_count": 104,
     "metadata": {},
     "output_type": "execute_result"
    }
   ],
   "source": []
  },
  {
   "cell_type": "code",
   "execution_count": 85,
   "metadata": {
    "scrolled": true
   },
   "outputs": [
    {
     "data": {
      "text/plain": [
       "array([1.        , 1.        , 1.        , 1.        , 1.        ,\n",
       "       0.44971577, 1.        , 1.        , 1.        , 1.        ,\n",
       "       1.        , 1.        , 1.        , 1.        , 1.        ,\n",
       "       0.97850412, 0.32854862, 0.9784912 , 1.        , 0.48975269,\n",
       "       1.        , 0.93424294, 0.91771041, 0.80017928, 0.82768839,\n",
       "       0.99881958, 0.99853725, 1.        , 1.        , 1.        ,\n",
       "       0.99598051, 1.        , 1.        , 1.        , 1.        ,\n",
       "       1.        , 1.        , 1.        , 1.        , 1.        ,\n",
       "       1.        , 0.99061376, 0.99916223, 1.        , 0.00211671,\n",
       "       1.        , 1.        , 0.97775131, 0.93896332, 0.76073685,\n",
       "       1.        ])"
      ]
     },
     "execution_count": 85,
     "metadata": {},
     "output_type": "execute_result"
    }
   ],
   "source": [
    "Dataset[179351]"
   ]
  },
  {
   "cell_type": "code",
   "execution_count": 151,
   "metadata": {},
   "outputs": [
    {
     "data": {
      "text/plain": [
       "(625,)"
      ]
     },
     "execution_count": 151,
     "metadata": {},
     "output_type": "execute_result"
    }
   ],
   "source": [
    "np.dot(Celltype_mtx_norm_sub[i,:].reshape(25,1),Celltype_mtx_norm_sub[j,:].reshape(1,25)).reshape(625).shape"
   ]
  },
  {
   "cell_type": "code",
   "execution_count": 148,
   "metadata": {},
   "outputs": [
    {
     "data": {
      "text/plain": [
       "(25,)"
      ]
     },
     "execution_count": 148,
     "metadata": {},
     "output_type": "execute_result"
    }
   ],
   "source": [
    "Celltype_mtx_norm_sub[j,:].shape"
   ]
  },
  {
   "cell_type": "code",
   "execution_count": 157,
   "metadata": {},
   "outputs": [
    {
     "data": {
      "text/plain": [
       "(array([1.        , 1.        , 1.        , 1.        , 1.        ,\n",
       "        0.44971577, 1.        , 1.        , 1.        , 1.        ,\n",
       "        1.        , 1.        , 1.        , 1.        , 1.        ,\n",
       "        0.97850412, 0.32854862, 0.9784912 , 1.        , 0.48975269,\n",
       "        1.        , 0.93424294, 0.91771041, 0.80017928, 0.82768839]),\n",
       " array([1.        , 1.        , 1.        , 1.        , 1.        ,\n",
       "        0.44971577, 1.        , 1.        , 1.        , 1.        ,\n",
       "        1.        , 1.        , 1.        , 1.        , 1.        ,\n",
       "        0.97850412, 0.32854862, 0.9784912 , 1.        , 0.48975269,\n",
       "        1.        , 0.93424294, 0.91771041, 0.80017928, 0.82768839]))"
      ]
     },
     "execution_count": 157,
     "metadata": {},
     "output_type": "execute_result"
    }
   ],
   "source": [
    "Celltype_mtx_norm_sub[i,:],Celltype_mtx_norm_sub[j,:]"
   ]
  },
  {
   "cell_type": "code",
   "execution_count": 51,
   "metadata": {
    "scrolled": false
   },
   "outputs": [
    {
     "data": {
      "text/plain": [
       "(array([3634.,  398.,  264.,  194.,  174.,  168.,  146.,  112.,   96.,\n",
       "         514.]),\n",
       " array([0.        , 0.07781513, 0.15563025, 0.23344538, 0.3112605 ,\n",
       "        0.38907563, 0.46689075, 0.54470588, 0.622521  , 0.70033613,\n",
       "        0.77815125]),\n",
       " <BarContainer object of 10 artists>)"
      ]
     },
     "execution_count": 51,
     "metadata": {},
     "output_type": "execute_result"
    },
    {
     "data": {
      "image/png": "[encoded data removed]",
      "text/plain": [
       "<Figure size 432x288 with 1 Axes>"
      ]
     },
     "metadata": {
      "needs_background": "light"
     },
     "output_type": "display_data"
    }
   ],
   "source": [
    "plt.hist(Target)"
   ]
  },
  {
   "cell_type": "code",
   "execution_count": 35,
   "metadata": {},
   "outputs": [
    {
     "data": {
      "text/plain": [
       "0.07438596491228071"
      ]
     },
     "execution_count": 35,
     "metadata": {},
     "output_type": "execute_result"
    }
   ],
   "source": [
    "sum(Target>5)/Target.shape[0]"
   ]
  },
  {
   "cell_type": "code",
   "execution_count": 19,
   "metadata": {},
   "outputs": [
    {
     "data": {
      "text/html": [
       "<div>\n",
       "<style scoped>\n",
       "    .dataframe tbody tr th:only-of-type {\n",
       "        vertical-align: middle;\n",
       "    }\n",
       "\n",
       "    .dataframe tbody tr th {\n",
       "        vertical-align: top;\n",
       "    }\n",
       "\n",
       "    .dataframe thead th {\n",
       "        text-align: right;\n",
       "    }\n",
       "</style>\n",
       "<table border=\"1\" class=\"dataframe\">\n",
       "  <thead>\n",
       "    <tr style=\"text-align: right;\">\n",
       "      <th></th>\n",
       "      <th>Amygdala</th>\n",
       "      <th>Cerebellar Cortex</th>\n",
       "      <th>Cerebellar Nuclei</th>\n",
       "      <th>Cortical Subplate</th>\n",
       "      <th>Hippocampal Formation</th>\n",
       "      <th>Hippocampal Gate</th>\n",
       "      <th>Hypothalamus</th>\n",
       "      <th>Isocortex</th>\n",
       "      <th>Medulla</th>\n",
       "      <th>Midbrain</th>\n",
       "      <th>Olfactory Areas</th>\n",
       "      <th>Pallidum</th>\n",
       "      <th>Pons</th>\n",
       "      <th>Striatum</th>\n",
       "      <th>Thalamic</th>\n",
       "    </tr>\n",
       "  </thead>\n",
       "  <tbody>\n",
       "    <tr>\n",
       "      <th>419</th>\n",
       "      <td>0</td>\n",
       "      <td>0</td>\n",
       "      <td>0</td>\n",
       "      <td>0</td>\n",
       "      <td>0</td>\n",
       "      <td>0</td>\n",
       "      <td>0</td>\n",
       "      <td>0</td>\n",
       "      <td>0</td>\n",
       "      <td>0</td>\n",
       "      <td>0</td>\n",
       "      <td>0</td>\n",
       "      <td>0</td>\n",
       "      <td>0</td>\n",
       "      <td>1</td>\n",
       "    </tr>\n",
       "    <tr>\n",
       "      <th>420</th>\n",
       "      <td>0</td>\n",
       "      <td>0</td>\n",
       "      <td>0</td>\n",
       "      <td>0</td>\n",
       "      <td>0</td>\n",
       "      <td>0</td>\n",
       "      <td>0</td>\n",
       "      <td>0</td>\n",
       "      <td>0</td>\n",
       "      <td>0</td>\n",
       "      <td>0</td>\n",
       "      <td>0</td>\n",
       "      <td>0</td>\n",
       "      <td>0</td>\n",
       "      <td>1</td>\n",
       "    </tr>\n",
       "    <tr>\n",
       "      <th>421</th>\n",
       "      <td>0</td>\n",
       "      <td>0</td>\n",
       "      <td>0</td>\n",
       "      <td>0</td>\n",
       "      <td>0</td>\n",
       "      <td>0</td>\n",
       "      <td>0</td>\n",
       "      <td>0</td>\n",
       "      <td>0</td>\n",
       "      <td>0</td>\n",
       "      <td>0</td>\n",
       "      <td>0</td>\n",
       "      <td>0</td>\n",
       "      <td>0</td>\n",
       "      <td>1</td>\n",
       "    </tr>\n",
       "    <tr>\n",
       "      <th>422</th>\n",
       "      <td>0</td>\n",
       "      <td>0</td>\n",
       "      <td>0</td>\n",
       "      <td>0</td>\n",
       "      <td>0</td>\n",
       "      <td>0</td>\n",
       "      <td>0</td>\n",
       "      <td>0</td>\n",
       "      <td>0</td>\n",
       "      <td>0</td>\n",
       "      <td>0</td>\n",
       "      <td>0</td>\n",
       "      <td>0</td>\n",
       "      <td>0</td>\n",
       "      <td>1</td>\n",
       "    </tr>\n",
       "    <tr>\n",
       "      <th>423</th>\n",
       "      <td>0</td>\n",
       "      <td>0</td>\n",
       "      <td>0</td>\n",
       "      <td>0</td>\n",
       "      <td>0</td>\n",
       "      <td>0</td>\n",
       "      <td>0</td>\n",
       "      <td>0</td>\n",
       "      <td>0</td>\n",
       "      <td>0</td>\n",
       "      <td>0</td>\n",
       "      <td>0</td>\n",
       "      <td>0</td>\n",
       "      <td>0</td>\n",
       "      <td>1</td>\n",
       "    </tr>\n",
       "  </tbody>\n",
       "</table>\n",
       "</div>"
      ],
      "text/plain": [
       "     Amygdala  Cerebellar Cortex  Cerebellar Nuclei  Cortical Subplate  \\\n",
       "419         0                  0                  0                  0   \n",
       "420         0                  0                  0                  0   \n",
       "421         0                  0                  0                  0   \n",
       "422         0                  0                  0                  0   \n",
       "423         0                  0                  0                  0   \n",
       "\n",
       "     Hippocampal Formation  Hippocampal Gate  Hypothalamus  Isocortex  \\\n",
       "419                      0                 0             0          0   \n",
       "420                      0                 0             0          0   \n",
       "421                      0                 0             0          0   \n",
       "422                      0                 0             0          0   \n",
       "423                      0                 0             0          0   \n",
       "\n",
       "     Medulla  Midbrain  Olfactory Areas  Pallidum  Pons  Striatum  Thalamic  \n",
       "419        0         0                0         0     0         0         1  \n",
       "420        0         0                0         0     0         0         1  \n",
       "421        0         0                0         0     0         0         1  \n",
       "422        0         0                0         0     0         0         1  \n",
       "423        0         0                0         0     0         0         1  "
      ]
     },
     "execution_count": 19,
     "metadata": {},
     "output_type": "execute_result"
    }
   ],
   "source": []
  },
  {
   "cell_type": "code",
   "execution_count": 52,
   "metadata": {
    "scrolled": false
   },
   "outputs": [
    {
     "data": {
      "text/plain": [
       "array([[1, 0, 0, ..., 0, 0, 0],\n",
       "       [1, 0, 0, ..., 0, 0, 0],\n",
       "       [1, 0, 0, ..., 0, 0, 0],\n",
       "       ...,\n",
       "       [0, 0, 0, ..., 0, 0, 1],\n",
       "       [0, 0, 0, ..., 0, 0, 1],\n",
       "       [0, 0, 0, ..., 0, 0, 1]], dtype=uint8)"
      ]
     },
     "execution_count": 52,
     "metadata": {},
     "output_type": "execute_result"
    }
   ],
   "source": [
    "Region_encodes = np.array(Region_encodes)\n",
    "Region_encodes"
   ]
  },
  {
   "cell_type": "code",
   "execution_count": 20,
   "metadata": {},
   "outputs": [],
   "source": [
    "import math"
   ]
  },
  {
   "cell_type": "code",
   "execution_count": 21,
   "metadata": {
    "scrolled": true
   },
   "outputs": [
    {
     "ename": "KeyError",
     "evalue": "0",
     "output_type": "error",
     "traceback": [
      "\u001b[0;31m---------------------------------------------------------------------------\u001b[0m",
      "\u001b[0;31mKeyError\u001b[0m                                  Traceback (most recent call last)",
      "\u001b[0;32m~/cw/miniconda3/envs/Harry_env/lib/python3.8/site-packages/pandas/core/indexes/base.py\u001b[0m in \u001b[0;36mget_loc\u001b[0;34m(self, key, method, tolerance)\u001b[0m\n\u001b[1;32m   2645\u001b[0m             \u001b[0;32mtry\u001b[0m\u001b[0;34m:\u001b[0m\u001b[0;34m\u001b[0m\u001b[0;34m\u001b[0m\u001b[0m\n\u001b[0;32m-> 2646\u001b[0;31m                 \u001b[0;32mreturn\u001b[0m \u001b[0mself\u001b[0m\u001b[0;34m.\u001b[0m\u001b[0m_engine\u001b[0m\u001b[0;34m.\u001b[0m\u001b[0mget_loc\u001b[0m\u001b[0;34m(\u001b[0m\u001b[0mkey\u001b[0m\u001b[0;34m)\u001b[0m\u001b[0;34m\u001b[0m\u001b[0;34m\u001b[0m\u001b[0m\n\u001b[0m\u001b[1;32m   2647\u001b[0m             \u001b[0;32mexcept\u001b[0m \u001b[0mKeyError\u001b[0m\u001b[0;34m:\u001b[0m\u001b[0;34m\u001b[0m\u001b[0;34m\u001b[0m\u001b[0m\n",
      "\u001b[0;32mpandas/_libs/index.pyx\u001b[0m in \u001b[0;36mpandas._libs.index.IndexEngine.get_loc\u001b[0;34m()\u001b[0m\n",
      "\u001b[0;32mpandas/_libs/index.pyx\u001b[0m in \u001b[0;36mpandas._libs.index.IndexEngine.get_loc\u001b[0;34m()\u001b[0m\n",
      "\u001b[0;32mpandas/_libs/hashtable_class_helper.pxi\u001b[0m in \u001b[0;36mpandas._libs.hashtable.PyObjectHashTable.get_item\u001b[0;34m()\u001b[0m\n",
      "\u001b[0;32mpandas/_libs/hashtable_class_helper.pxi\u001b[0m in \u001b[0;36mpandas._libs.hashtable.PyObjectHashTable.get_item\u001b[0;34m()\u001b[0m\n",
      "\u001b[0;31mKeyError\u001b[0m: 0",
      "\nDuring handling of the above exception, another exception occurred:\n",
      "\u001b[0;31mKeyError\u001b[0m                                  Traceback (most recent call last)",
      "\u001b[0;32m<ipython-input-21-12d20aed2762>\u001b[0m in \u001b[0;36m<module>\u001b[0;34m\u001b[0m\n\u001b[1;32m     48\u001b[0m             Dataset.append(np.concatenate((Celltype_mtx_norm_sub[i,:],Celltype_mtx_norm_sub[j,:],Distance_mtx_sub[i,j].reshape(1),\n\u001b[1;32m     49\u001b[0m                                         \u001b[0mCelltype_volumn\u001b[0m\u001b[0;34m[\u001b[0m\u001b[0mi\u001b[0m\u001b[0;34m]\u001b[0m\u001b[0;34m.\u001b[0m\u001b[0mreshape\u001b[0m\u001b[0;34m(\u001b[0m\u001b[0;36m1\u001b[0m\u001b[0;34m)\u001b[0m\u001b[0;34m,\u001b[0m\u001b[0mCelltype_volumn\u001b[0m\u001b[0;34m[\u001b[0m\u001b[0mj\u001b[0m\u001b[0;34m]\u001b[0m\u001b[0;34m.\u001b[0m\u001b[0mreshape\u001b[0m\u001b[0;34m(\u001b[0m\u001b[0;36m1\u001b[0m\u001b[0;34m)\u001b[0m\u001b[0;34m,\u001b[0m\u001b[0mnp\u001b[0m\u001b[0;34m.\u001b[0m\u001b[0marray\u001b[0m\u001b[0;34m(\u001b[0m\u001b[0mclose_region\u001b[0m\u001b[0;34m)\u001b[0m\u001b[0;34m.\u001b[0m\u001b[0mreshape\u001b[0m\u001b[0;34m(\u001b[0m\u001b[0;36m1\u001b[0m\u001b[0;34m)\u001b[0m\u001b[0;34m,\u001b[0m\u001b[0;34m\u001b[0m\u001b[0;34m\u001b[0m\u001b[0m\n\u001b[0;32m---> 50\u001b[0;31m                                           Region_encodes[i],Region_encodes[j])))\n\u001b[0m\u001b[1;32m     51\u001b[0m                                           \u001b[0;31m#np.dot(Celltype_mtx_norm_sub[i,:].reshape(25,1),Celltype_mtx_norm_sub[j,:].reshape(1,25)).reshape(625))))#,\u001b[0m\u001b[0;34m\u001b[0m\u001b[0;34m\u001b[0m\u001b[0;34m\u001b[0m\u001b[0m\n\u001b[1;32m     52\u001b[0m                                        \u001b[0;31m#   Celltype_mtx_norm_sub[i,:] - Celltype_mtx_norm_sub[j,:],\u001b[0m\u001b[0;34m\u001b[0m\u001b[0;34m\u001b[0m\u001b[0;34m\u001b[0m\u001b[0m\n",
      "\u001b[0;32m~/cw/miniconda3/envs/Harry_env/lib/python3.8/site-packages/pandas/core/frame.py\u001b[0m in \u001b[0;36m__getitem__\u001b[0;34m(self, key)\u001b[0m\n\u001b[1;32m   2798\u001b[0m             \u001b[0;32mif\u001b[0m \u001b[0mself\u001b[0m\u001b[0;34m.\u001b[0m\u001b[0mcolumns\u001b[0m\u001b[0;34m.\u001b[0m\u001b[0mnlevels\u001b[0m \u001b[0;34m>\u001b[0m \u001b[0;36m1\u001b[0m\u001b[0;34m:\u001b[0m\u001b[0;34m\u001b[0m\u001b[0;34m\u001b[0m\u001b[0m\n\u001b[1;32m   2799\u001b[0m                 \u001b[0;32mreturn\u001b[0m \u001b[0mself\u001b[0m\u001b[0;34m.\u001b[0m\u001b[0m_getitem_multilevel\u001b[0m\u001b[0;34m(\u001b[0m\u001b[0mkey\u001b[0m\u001b[0;34m)\u001b[0m\u001b[0;34m\u001b[0m\u001b[0;34m\u001b[0m\u001b[0m\n\u001b[0;32m-> 2800\u001b[0;31m             \u001b[0mindexer\u001b[0m \u001b[0;34m=\u001b[0m \u001b[0mself\u001b[0m\u001b[0;34m.\u001b[0m\u001b[0mcolumns\u001b[0m\u001b[0;34m.\u001b[0m\u001b[0mget_loc\u001b[0m\u001b[0;34m(\u001b[0m\u001b[0mkey\u001b[0m\u001b[0;34m)\u001b[0m\u001b[0;34m\u001b[0m\u001b[0;34m\u001b[0m\u001b[0m\n\u001b[0m\u001b[1;32m   2801\u001b[0m             \u001b[0;32mif\u001b[0m \u001b[0mis_integer\u001b[0m\u001b[0;34m(\u001b[0m\u001b[0mindexer\u001b[0m\u001b[0;34m)\u001b[0m\u001b[0;34m:\u001b[0m\u001b[0;34m\u001b[0m\u001b[0;34m\u001b[0m\u001b[0m\n\u001b[1;32m   2802\u001b[0m                 \u001b[0mindexer\u001b[0m \u001b[0;34m=\u001b[0m \u001b[0;34m[\u001b[0m\u001b[0mindexer\u001b[0m\u001b[0;34m]\u001b[0m\u001b[0;34m\u001b[0m\u001b[0;34m\u001b[0m\u001b[0m\n",
      "\u001b[0;32m~/cw/miniconda3/envs/Harry_env/lib/python3.8/site-packages/pandas/core/indexes/base.py\u001b[0m in \u001b[0;36mget_loc\u001b[0;34m(self, key, method, tolerance)\u001b[0m\n\u001b[1;32m   2646\u001b[0m                 \u001b[0;32mreturn\u001b[0m \u001b[0mself\u001b[0m\u001b[0;34m.\u001b[0m\u001b[0m_engine\u001b[0m\u001b[0;34m.\u001b[0m\u001b[0mget_loc\u001b[0m\u001b[0;34m(\u001b[0m\u001b[0mkey\u001b[0m\u001b[0;34m)\u001b[0m\u001b[0;34m\u001b[0m\u001b[0;34m\u001b[0m\u001b[0m\n\u001b[1;32m   2647\u001b[0m             \u001b[0;32mexcept\u001b[0m \u001b[0mKeyError\u001b[0m\u001b[0;34m:\u001b[0m\u001b[0;34m\u001b[0m\u001b[0;34m\u001b[0m\u001b[0m\n\u001b[0;32m-> 2648\u001b[0;31m                 \u001b[0;32mreturn\u001b[0m \u001b[0mself\u001b[0m\u001b[0;34m.\u001b[0m\u001b[0m_engine\u001b[0m\u001b[0;34m.\u001b[0m\u001b[0mget_loc\u001b[0m\u001b[0;34m(\u001b[0m\u001b[0mself\u001b[0m\u001b[0;34m.\u001b[0m\u001b[0m_maybe_cast_indexer\u001b[0m\u001b[0;34m(\u001b[0m\u001b[0mkey\u001b[0m\u001b[0;34m)\u001b[0m\u001b[0;34m)\u001b[0m\u001b[0;34m\u001b[0m\u001b[0;34m\u001b[0m\u001b[0m\n\u001b[0m\u001b[1;32m   2649\u001b[0m         \u001b[0mindexer\u001b[0m \u001b[0;34m=\u001b[0m \u001b[0mself\u001b[0m\u001b[0;34m.\u001b[0m\u001b[0mget_indexer\u001b[0m\u001b[0;34m(\u001b[0m\u001b[0;34m[\u001b[0m\u001b[0mkey\u001b[0m\u001b[0;34m]\u001b[0m\u001b[0;34m,\u001b[0m \u001b[0mmethod\u001b[0m\u001b[0;34m=\u001b[0m\u001b[0mmethod\u001b[0m\u001b[0;34m,\u001b[0m \u001b[0mtolerance\u001b[0m\u001b[0;34m=\u001b[0m\u001b[0mtolerance\u001b[0m\u001b[0;34m)\u001b[0m\u001b[0;34m\u001b[0m\u001b[0;34m\u001b[0m\u001b[0m\n\u001b[1;32m   2650\u001b[0m         \u001b[0;32mif\u001b[0m \u001b[0mindexer\u001b[0m\u001b[0;34m.\u001b[0m\u001b[0mndim\u001b[0m \u001b[0;34m>\u001b[0m \u001b[0;36m1\u001b[0m \u001b[0;32mor\u001b[0m \u001b[0mindexer\u001b[0m\u001b[0;34m.\u001b[0m\u001b[0msize\u001b[0m \u001b[0;34m>\u001b[0m \u001b[0;36m1\u001b[0m\u001b[0;34m:\u001b[0m\u001b[0;34m\u001b[0m\u001b[0;34m\u001b[0m\u001b[0m\n",
      "\u001b[0;32mpandas/_libs/index.pyx\u001b[0m in \u001b[0;36mpandas._libs.index.IndexEngine.get_loc\u001b[0;34m()\u001b[0m\n",
      "\u001b[0;32mpandas/_libs/index.pyx\u001b[0m in \u001b[0;36mpandas._libs.index.IndexEngine.get_loc\u001b[0;34m()\u001b[0m\n",
      "\u001b[0;32mpandas/_libs/hashtable_class_helper.pxi\u001b[0m in \u001b[0;36mpandas._libs.hashtable.PyObjectHashTable.get_item\u001b[0;34m()\u001b[0m\n",
      "\u001b[0;32mpandas/_libs/hashtable_class_helper.pxi\u001b[0m in \u001b[0;36mpandas._libs.hashtable.PyObjectHashTable.get_item\u001b[0;34m()\u001b[0m\n",
      "\u001b[0;31mKeyError\u001b[0m: 0"
     ]
    }
   ],
   "source": [
    "# random forest\n",
    "\n",
    "# build a df to store the information\n",
    "\n",
    "# instead use the subset, this time I am trying the whole, which might be not suitable for ML, but I just wanted a positive control\n",
    "from sklearn.ensemble import RandomForestRegressor\n",
    "from sklearn.metrics import r2_score\n",
    "from sklearn.metrics import mean_squared_error\n",
    "res_df =[]\n",
    "\n",
    "\n",
    "Target = []\n",
    "Dataset = []\n",
    "Celltype_mtx_norm_sub  = Celltype_mtx_norm[index]\n",
    "Connectome_direct_density_sub = Connectome_direct_density[index, :]\n",
    "Connectome_direct_density_sub = Connectome_direct_density_sub[:,index]\n",
    "Distance_mtx_sub = Distance_mtx[index,:]\n",
    "Distance_mtx_sub = Distance_mtx_sub[:,index]\n",
    "for i in range(Celltype_mtx_norm_sub.shape[0]):\n",
    "    for j in range(Celltype_mtx_norm_sub.shape[0]):\n",
    "        \n",
    "        if i >= 212 :\n",
    "            i_ = i - 212\n",
    "        else:\n",
    "            i_ = i\n",
    "        \n",
    "        if j >= 212 :\n",
    "            j_ = j - 212\n",
    "        else:\n",
    "            j_ = j\n",
    "        if (Regionmaps_df['Anno2'][i_] == Regionmaps_df['Anno2'][j_] ):\n",
    "            if ((i >= 212) == (j >= 212)):\n",
    "                \n",
    "                close_region = 1\n",
    "            else: \n",
    "                close_region = 0.5\n",
    "        else:\n",
    "            close_region = 0\n",
    "        \n",
    "        #print(i)\n",
    "        #print(j)\n",
    "        if i == j:\n",
    "            pass       \n",
    "        else:\n",
    "\n",
    "            #_Dataset_Training = np.concatenate((Dataset_Train_set[i,:],Dataset_Train_set[j,:]))\n",
    "            #Dataset_Training = np.stack((Dataset_Training,_Dataset_Training))\n",
    "            Dataset.append(np.concatenate((Celltype_mtx_norm_sub[i,:],Celltype_mtx_norm_sub[j,:],Distance_mtx_sub[i,j].reshape(1),\n",
    "                                        Celltype_volumn[i].reshape(1),Celltype_volumn[j].reshape(1),np.array(close_region).reshape(1),\n",
    "                                          Region_encodes[i],Region_encodes[j])))\n",
    "                                          #np.dot(Celltype_mtx_norm_sub[i,:].reshape(25,1),Celltype_mtx_norm_sub[j,:].reshape(1,25)).reshape(625))))#,\n",
    "                                       #   Celltype_mtx_norm_sub[i,:] - Celltype_mtx_norm_sub[j,:], \n",
    "                                       #np.log10(((Celltype_mtx_norm_sub[i,:]+ 0.0001 )/ (Celltype_mtx_norm_sub[j,:]+0.0001))+1))))\n",
    "            #Dataset.append(np.concatenate((Celltype_mtx_norm_sub[i,:],Celltype_mtx_norm_sub[j,:],\n",
    "            #                              Celltype_mtx_norm_sub[i,:] - Celltype_mtx_norm_sub[j,:], \n",
    "                                      # np.log10(((Celltype_mtx_norm_sub[i,:]+ 0.0001 )/ (Celltype_mtx_norm_sub[j,:]+0.0001))+1))))\n",
    "            Target.append(Connectome_direct_density_sub[i,j])\n",
    "            \n",
    "            \n",
    "print('?')\n",
    "Dataset = np.stack(Dataset)\n",
    "capped_Target = [5 if x>5 else x for x in Target]\n",
    "capped_Target = [math.log2(x+1) for x in capped_Target]\n",
    "Target =np.array([np.array(xi) for xi in capped_Target])   \n",
    "print(Dataset.shape)\n",
    "print(Target.shape)    \n",
    "#X_train, X_test, y_train, y_test = train_test_split(Dataset, Target,test_size=.2,random_state =123)  \n",
    "\n",
    "#\n",
    "kf = KFold(n_splits=10, shuffle= True)\n",
    "list_r2 = []\n",
    "for train_index, test_index in kf.split(Dataset):\n",
    "    #print(train_index)\n",
    "    #print(test_index)\n",
    "    sub1 = train_index#), int(len(train_index))\n",
    "    sub2 = test_index#), int(len(test_index)/50))\n",
    "    X_train, X_test = Dataset[sub1], Dataset[sub2]\n",
    "    y_train, y_test = Target[sub1], Target[sub2]\n",
    "  \n",
    "    \n",
    "    \n",
    "    #reg = LazyRegressor(verbose=1, predictions=True,ignore_warnings=False, custom_metric=None)\n",
    "    #models, predictions = reg.fit(X_train, X_test, y_train, y_test)\n",
    "    #print(models)\n",
    "    \n",
    "    RF_model = RandomForestRegressor(n_estimators=100,max_features = 50,max_depth=20,min_samples_split =5)#,warm_start = True)  # height\n",
    "    RF_model.fit(X_train, y_train)\n",
    "    print('Traing fit')\n",
    "    Predict = RF_model.predict(X_train)\n",
    "    print(r2_score(y_train, Predict))\n",
    "    print('Testing fit')\n",
    "    Predict = RF_model.predict(X_test)\n",
    "    print(r2_score(y_test, Predict))\n",
    "    list_r2.append(r2_score(y_test, Predict))\n",
    "    break\n",
    "    '''\n",
    "    svr_rbf = SVR()\n",
    "    \n",
    "    svr_rbf.fit(Dataset_Training_sub,Target_training_sub)\n",
    "\n",
    "\n",
    "    Predict = svr_rbf.predict(Dataset_Testing_sub)\n",
    "    _res = []\n",
    "    _res.append('SVR')\n",
    "    \n",
    "    _res.append(r2_score(Target_Testing_sub,Predict))\n",
    "    _res.append(mean_squared_error(Target_Testing_sub,Predict,squared=False))\n",
    "    print(_res)\n",
    "    '''"
   ]
  },
  {
   "cell_type": "code",
   "execution_count": 86,
   "metadata": {
    "scrolled": false
   },
   "outputs": [
    {
     "data": {
      "text/plain": [
       "0.45483649752862304"
      ]
     },
     "execution_count": 86,
     "metadata": {},
     "output_type": "execute_result"
    }
   ],
   "source": [
    "stats.mean(list_r2)"
   ]
  },
  {
   "cell_type": "code",
   "execution_count": 48,
   "metadata": {},
   "outputs": [],
   "source": []
  },
  {
   "cell_type": "code",
   "execution_count": 85,
   "metadata": {},
   "outputs": [],
   "source": [
    "# load heatmap\n",
    "# try to do a viz\n",
    "\n",
    "import seaborn as sns; sns.set_theme()"
   ]
  },
  {
   "cell_type": "code",
   "execution_count": 88,
   "metadata": {
    "scrolled": false
   },
   "outputs": [
    {
     "data": {
      "text/plain": [
       "(179352, 84)"
      ]
     },
     "execution_count": 88,
     "metadata": {},
     "output_type": "execute_result"
    }
   ],
   "source": [
    "Dataset.shape"
   ]
  },
  {
   "cell_type": "code",
   "execution_count": 119,
   "metadata": {},
   "outputs": [],
   "source": [
    "Predict =RF_model.predict(X_train)"
   ]
  },
  {
   "cell_type": "code",
   "execution_count": 116,
   "metadata": {},
   "outputs": [
    {
     "data": {
      "text/plain": [
       "(161416, 84)"
      ]
     },
     "execution_count": 116,
     "metadata": {},
     "output_type": "execute_result"
    }
   ],
   "source": [
    "X_train.shape"
   ]
  },
  {
   "cell_type": "code",
   "execution_count": 124,
   "metadata": {
    "scrolled": true
   },
   "outputs": [
    {
     "data": {
      "text/plain": [
       "[<matplotlib.lines.Line2D at 0x7f477938a940>]"
      ]
     },
     "execution_count": 124,
     "metadata": {},
     "output_type": "execute_result"
    },
    {
     "data": {
      "image/png": "[encoded data removed]",
      "text/plain": [
       "<Figure size 432x288 with 1 Axes>"
      ]
     },
     "metadata": {},
     "output_type": "display_data"
    }
   ],
   "source": [
    "plt.plot(range(0,161416), y_train, 'r.')\n"
   ]
  },
  {
   "cell_type": "code",
   "execution_count": 125,
   "metadata": {},
   "outputs": [
    {
     "data": {
      "text/plain": [
       "[<matplotlib.lines.Line2D at 0x7f4779551070>]"
      ]
     },
     "execution_count": 125,
     "metadata": {},
     "output_type": "execute_result"
    },
    {
     "data": {
      "image/png": "[encoded data removed]",
      "text/plain": [
       "<Figure size 432x288 with 1 Axes>"
      ]
     },
     "metadata": {},
     "output_type": "display_data"
    }
   ],
   "source": [
    "plt.plot(range(0,161416), Predict, 'r.')\n"
   ]
  },
  {
   "cell_type": "code",
   "execution_count": 122,
   "metadata": {},
   "outputs": [
    {
     "data": {
      "text/plain": [
       "[<matplotlib.lines.Line2D at 0x7f47789d53a0>]"
      ]
     },
     "execution_count": 122,
     "metadata": {},
     "output_type": "execute_result"
    },
    {
     "data": {
      "image/png": "[encoded data removed]",
      "text/plain": [
       "<Figure size 432x288 with 1 Axes>"
      ]
     },
     "metadata": {},
     "output_type": "display_data"
    }
   ],
   "source": [
    "plt.plot(range(0,161416), Predict)\n"
   ]
  },
  {
   "cell_type": "code",
   "execution_count": 115,
   "metadata": {
    "scrolled": true
   },
   "outputs": [
    {
     "data": {
      "text/plain": [
       "[<matplotlib.lines.Line2D at 0x7f4770828dc0>]"
      ]
     },
     "execution_count": 115,
     "metadata": {},
     "output_type": "execute_result"
    },
    {
     "data": {
      "image/png": "[encoded data removed]",
      "text/plain": [
       "<Figure size 432x288 with 1 Axes>"
      ]
     },
     "metadata": {},
     "output_type": "display_data"
    }
   ],
   "source": [
    "plt.plot(range(0,17936), )"
   ]
  },
  {
   "cell_type": "code",
   "execution_count": 106,
   "metadata": {},
   "outputs": [
    {
     "data": {
      "text/plain": [
       "0.4535598105621592"
      ]
     },
     "execution_count": 106,
     "metadata": {},
     "output_type": "execute_result"
    }
   ],
   "source": [
    "r2_score(y_test, Predict)"
   ]
  },
  {
   "cell_type": "code",
   "execution_count": 95,
   "metadata": {},
   "outputs": [
    {
     "data": {
      "text/plain": [
       "(array([15672.,   643.,   347.,   242.,   179.,   151.,   133.,    99.,\n",
       "           89.,   380.]),\n",
       " array([0.        , 0.07781513, 0.15563025, 0.23344538, 0.3112605 ,\n",
       "        0.38907563, 0.46689075, 0.54470588, 0.622521  , 0.70033613,\n",
       "        0.77815125]),\n",
       " <BarContainer object of 10 artists>)"
      ]
     },
     "execution_count": 95,
     "metadata": {},
     "output_type": "execute_result"
    },
    {
     "data": {
      "image/png": "[encoded data removed]",
      "text/plain": [
       "<Figure size 432x288 with 1 Axes>"
      ]
     },
     "metadata": {},
     "output_type": "display_data"
    }
   ],
   "source": [
    "plt.hist(y_test)"
   ]
  },
  {
   "cell_type": "code",
   "execution_count": 91,
   "metadata": {},
   "outputs": [
    {
     "data": {
      "text/plain": [
       "array([[0., 0., 0., ..., 0., 0., 0.],\n",
       "       [0., 0., 0., ..., 0., 0., 0.],\n",
       "       [0., 0., 0., ..., 0., 0., 0.],\n",
       "       ...,\n",
       "       [0., 0., 0., ..., 0., 0., 0.],\n",
       "       [0., 0., 0., ..., 0., 0., 0.],\n",
       "       [0., 0., 0., ..., 0., 0., 0.]])"
      ]
     },
     "execution_count": 91,
     "metadata": {},
     "output_type": "execute_result"
    }
   ],
   "source": [
    "test_viz = np.zeros((424,424))\n",
    "for i in range(424):\n",
    "    for j in range(424):\n",
    "        if i == j "
   ]
  },
  {
   "cell_type": "code",
   "execution_count": 89,
   "metadata": {},
   "outputs": [
    {
     "data": {
      "text/plain": [
       "array([     0,      1,      4, ..., 179340, 179343, 179351])"
      ]
     },
     "execution_count": 89,
     "metadata": {},
     "output_type": "execute_result"
    }
   ],
   "source": [
    "test_index"
   ]
  },
  {
   "cell_type": "code",
   "execution_count": 87,
   "metadata": {},
   "outputs": [
    {
     "data": {
      "text/plain": [
       "(17935, 84)"
      ]
     },
     "execution_count": 87,
     "metadata": {},
     "output_type": "execute_result"
    }
   ],
   "source": [
    "X_test.shape"
   ]
  },
  {
   "cell_type": "code",
   "execution_count": 90,
   "metadata": {},
   "outputs": [
    {
     "data": {
      "text/plain": [
       "179776"
      ]
     },
     "execution_count": 90,
     "metadata": {},
     "output_type": "execute_result"
    }
   ],
   "source": [
    "424 * 424"
   ]
  },
  {
   "cell_type": "code",
   "execution_count": 27,
   "metadata": {
    "scrolled": false
   },
   "outputs": [
    {
     "name": "stdout",
     "output_type": "stream",
     "text": [
      "0.8480445849271138\n"
     ]
    }
   ],
   "source": [
    "Predict = RF_model.predict(X_train)\n",
    "print(r2_score(y_train, Predict))\n"
   ]
  },
  {
   "cell_type": "code",
   "execution_count": 61,
   "metadata": {},
   "outputs": [
    {
     "name": "stdout",
     "output_type": "stream",
     "text": [
      "0.3468429374222749\n"
     ]
    }
   ],
   "source": [
    "Predict = RF_model.predict(X_test)\n",
    "print(r2_score(y_test, Predict))\n"
   ]
  },
  {
   "cell_type": "code",
   "execution_count": 25,
   "metadata": {},
   "outputs": [],
   "source": [
    "import statistics as stats"
   ]
  },
  {
   "cell_type": "code",
   "execution_count": 26,
   "metadata": {},
   "outputs": [
    {
     "name": "stdout",
     "output_type": "stream",
     "text": [
      "(5700, 50)\n",
      "(5700,)\n"
     ]
    },
    {
     "ename": "NameError",
     "evalue": "name 'SVR' is not defined",
     "output_type": "error",
     "traceback": [
      "\u001b[0;31m---------------------------------------------------------------------------\u001b[0m",
      "\u001b[0;31mNameError\u001b[0m                                 Traceback (most recent call last)",
      "\u001b[0;32m<ipython-input-26-f3929d09c23a>\u001b[0m in \u001b[0;36m<module>\u001b[0;34m\u001b[0m\n\u001b[1;32m     58\u001b[0m     \u001b[0;31m#list_r2.append(r2_score(y_test, Predict))\u001b[0m\u001b[0;34m\u001b[0m\u001b[0;34m\u001b[0m\u001b[0;34m\u001b[0m\u001b[0m\n\u001b[1;32m     59\u001b[0m \u001b[0;34m\u001b[0m\u001b[0m\n\u001b[0;32m---> 60\u001b[0;31m     \u001b[0msvr_rbf\u001b[0m \u001b[0;34m=\u001b[0m \u001b[0mSVR\u001b[0m\u001b[0;34m(\u001b[0m\u001b[0;34m)\u001b[0m\u001b[0;34m\u001b[0m\u001b[0;34m\u001b[0m\u001b[0m\n\u001b[0m\u001b[1;32m     61\u001b[0m \u001b[0;34m\u001b[0m\u001b[0m\n\u001b[1;32m     62\u001b[0m     \u001b[0msvr_rbf\u001b[0m\u001b[0;34m.\u001b[0m\u001b[0mfit\u001b[0m\u001b[0;34m(\u001b[0m\u001b[0mX_train\u001b[0m\u001b[0;34m,\u001b[0m\u001b[0my_train\u001b[0m\u001b[0;34m)\u001b[0m\u001b[0;34m\u001b[0m\u001b[0;34m\u001b[0m\u001b[0m\n",
      "\u001b[0;31mNameError\u001b[0m: name 'SVR' is not defined"
     ]
    }
   ],
   "source": [
    "# random forest\n",
    "\n",
    "# build a df to store the information\n",
    "\n",
    "# instead use the subset, this time I am trying the whole, which might be not suitable for ML, but I just wanted a positive control\n",
    "from sklearn.ensemble import RandomForestRegressor\n",
    "from sklearn.metrics import r2_score\n",
    "from sklearn.metrics import mean_squared_error\n",
    "res_df =[]\n",
    "\n",
    "\n",
    "Target = []\n",
    "Dataset = []\n",
    "Celltype_mtx_norm_sub  = Celltype_mtx_norm[index]\n",
    "Connectome_direct_density_sub = Connectome_direct_density[index, :]\n",
    "Connectome_direct_density_sub = Connectome_direct_density_sub[:,index]\n",
    "for i in range(Celltype_mtx_norm_sub.shape[0]):\n",
    "    for j in range(Celltype_mtx_norm_sub.shape[0]):\n",
    "        #print(i)\n",
    "        #print(j)\n",
    "        if i == j:\n",
    "            pass       \n",
    "        else:\n",
    "\n",
    "            #_Dataset_Training = np.concatenate((Dataset_Train_set[i,:],Dataset_Train_set[j,:]))\n",
    "            #Dataset_Training = np.stack((Dataset_Training,_Dataset_Training))\n",
    "            Dataset.append(np.concatenate((Celltype_mtx_norm_sub[i,:],Celltype_mtx_norm_sub[j,:])))\n",
    "            Target.append(Connectome_direct_density_sub[i,j])\n",
    "            \n",
    "\n",
    "Dataset = np.stack(Dataset)\n",
    "Target =np.array([np.array(xi) for xi in Target])   \n",
    "print(Dataset.shape)\n",
    "print(Target.shape)    \n",
    "#X_train, X_test, y_train, y_test = train_test_split(Dataset, Target,test_size=.2,random_state =123)  \n",
    "\n",
    "#\n",
    "kf = KFold(n_splits=10, shuffle= True)\n",
    "list_r2 = []\n",
    "for train_index, test_index in kf.split(Dataset):\n",
    "    #print(train_index)\n",
    "    #print(test_index)\n",
    "    sub1 = train_index#), int(len(train_index))\n",
    "    sub2 = test_index#), int(len(test_index)/50))\n",
    "    X_train, X_test = Dataset[sub1], Dataset[sub2]\n",
    "    y_train, y_test = Target[sub1], Target[sub2]\n",
    "  \n",
    "    \n",
    "    \n",
    "    #reg = LazyRegressor(verbose=1, predictions=True,ignore_warnings=False, custom_metric=None)\n",
    "    #models, predictions = reg.fit(X_train, X_test, y_train, y_test)\n",
    "    #print(models)\n",
    "    \n",
    "    #RF_model = RandomForestRegressor()\n",
    "    #RF_model.fit(X_train, y_train)\n",
    "    #Predict = RF_model.predict(X_test)\n",
    "    #print(r2_score(y_test, Predict))\n",
    "    #list_r2.append(r2_score(y_test, Predict))\n",
    "    \n",
    "    svr_rbf = SVR()\n",
    "    \n",
    "    svr_rbf.fit(X_train,y_train)\n",
    "\n",
    "\n",
    "    Predict = svr_rbf.predict(X_test)\n",
    "    print(r2_score(y_test, Predict))\n",
    "    list_r2.append(r2_score(y_test, Predict))"
   ]
  },
  {
   "cell_type": "code",
   "execution_count": null,
   "metadata": {},
   "outputs": [],
   "source": []
  },
  {
   "cell_type": "markdown",
   "metadata": {},
   "source": [
    "### Gradiant boosting regressor"
   ]
  },
  {
   "cell_type": "code",
   "execution_count": 52,
   "metadata": {},
   "outputs": [
    {
     "name": "stdout",
     "output_type": "stream",
     "text": [
      "(5700, 100)\n",
      "(5700,)\n",
      "Training\n",
      "0.7372042375072074\n",
      "0.33756204317402305\n",
      "Training\n",
      "0.7507337856368136\n",
      "0.1931689923108918\n",
      "Training\n",
      "0.7468316895839594\n",
      "0.13250769126718465\n",
      "Training\n",
      "0.726058724880232\n",
      "0.3506874096434336\n",
      "Training\n",
      "0.7409728342515443\n",
      "0.33086620988727955\n",
      "Training\n",
      "0.7505609620944415\n",
      "0.21496399070663508\n",
      "Training\n",
      "0.7506621873272188\n",
      "0.18849332101589955\n",
      "Training\n",
      "0.7350367649974109\n",
      "0.3417087824664059\n",
      "Training\n",
      "0.7560514351942671\n",
      "0.023191090884260968\n",
      "Training\n",
      "0.7439036032801696\n",
      "0.17832855845847762\n"
     ]
    }
   ],
   "source": [
    "# random forest\n",
    "\n",
    "# build a df to store the information\n",
    "\n",
    "# instead use the subset, this time I am trying the whole, which might be not suitable for ML, but I just wanted a positive control\n",
    "from sklearn.ensemble import GradientBoostingRegressor\n",
    "from sklearn.metrics import r2_score\n",
    "from sklearn.metrics import mean_squared_error\n",
    "res_df =[]\n",
    "\n",
    "\n",
    "Target = []\n",
    "Dataset = []\n",
    "Celltype_mtx_norm_sub  = Celltype_mtx_norm[index]\n",
    "Connectome_direct_density_sub = Connectome_direct_density[index, :]  # temperaily removed the density\n",
    "Connectome_direct_density_sub = Connectome_direct_density_sub[:,index]\n",
    "for i in range(Celltype_mtx_norm_sub.shape[0]):\n",
    "    for j in range(Celltype_mtx_norm_sub.shape[0]):\n",
    "        #print(i)\n",
    "        #print(j)\n",
    "        if i == j:\n",
    "            pass       \n",
    "        else:\n",
    "\n",
    "            #_Dataset_Training = np.concatenate((Dataset_Train_set[i,:],Dataset_Train_set[j,:]))\n",
    "            #Dataset_Training = np.stack((Dataset_Training,_Dataset_Training))\n",
    "            #Dataset.append(np.concatenate((Celltype_mtx_norm_sub[i,:],Celltype_mtx_norm_sub[j,:])))\n",
    "            Dataset.append(np.concatenate((Celltype_mtx_norm_sub[i,:],Celltype_mtx_norm_sub[j,:],\n",
    "                                          Celltype_mtx_norm_sub[i,:] - Celltype_mtx_norm_sub[j,:], \n",
    "                                         np.log10((Celltype_mtx_norm_sub[i,:]+ 0.0001) / (Celltype_mtx_norm_sub[j,:]+0.0001)))))\n",
    "            \n",
    "            Target.append(Connectome_direct_density_sub[i,j])\n",
    "            \n",
    "\n",
    "Dataset = np.stack(Dataset)\n",
    "Target =np.array([np.array(xi) for xi in Target])   \n",
    "print(Dataset.shape)\n",
    "print(Target.shape)    \n",
    "#X_train, X_test, y_train, y_test = train_test_split(Dataset, Target,test_size=.2,random_state =123)  \n",
    "\n",
    "#\n",
    "kf = KFold(n_splits=10, shuffle= True)\n",
    "list_r2 = []\n",
    "for train_index, test_index in kf.split(Dataset):\n",
    "    #print(train_index)\n",
    "    #print(test_index)\n",
    "    sub1 = train_index#), int(len(train_index))\n",
    "    sub2 = test_index#), int(len(test_index)/50))\n",
    "    X_train, X_test = Dataset[sub1], Dataset[sub2]\n",
    "    y_train, y_test = Target[sub1], Target[sub2]\n",
    "  \n",
    "    \n",
    "    \n",
    "    #reg = LazyRegressor(verbose=1, predictions=True,ignore_warnings=False, custom_metric=None)\n",
    "    #models, predictions = reg.fit(X_train, X_test, y_train, y_test)\n",
    "    #print(models)\n",
    "    \n",
    "\n",
    "    \n",
    "    #svr_rbf = SVR()\n",
    "    \n",
    "    #svr_rbf.fit(X_train,y_train)\n",
    "\n",
    "    gb_model = GradientBoostingRegressor(random_state=0, n_estimators=200,max_features = 50)\n",
    "    gb_model.fit(X_train,y_train)\n",
    "    print('Training')\n",
    "    Predict = gb_model.predict(X_train)\n",
    "    print(r2_score(y_train, Predict))\n",
    "    Predict = gb_model.predict(X_test)\n",
    "    print(r2_score(y_test, Predict))\n",
    "    list_r2.append(r2_score(y_test, Predict))"
   ]
  },
  {
   "cell_type": "code",
   "execution_count": 53,
   "metadata": {
    "scrolled": true
   },
   "outputs": [
    {
     "data": {
      "text/plain": [
       "0.22914780898144918"
      ]
     },
     "execution_count": 53,
     "metadata": {},
     "output_type": "execute_result"
    }
   ],
   "source": [
    "stats.mean(list_r2)"
   ]
  },
  {
   "cell_type": "markdown",
   "metadata": {},
   "source": [
    "### Generalize linear models\n",
    "\n"
   ]
  },
  {
   "cell_type": "code",
   "execution_count": 50,
   "metadata": {},
   "outputs": [
    {
     "name": "stdout",
     "output_type": "stream",
     "text": [
      "(5700, 150)\n",
      "(5700,)\n",
      "0.12231083470424076\n",
      "0.009778120199164575\n",
      "-0.00020814459896767445\n",
      "0.12436914912425978\n",
      "0.026919875694805917\n",
      "0.1125847094735768\n",
      "0.029738160109131107\n",
      "0.11879729630244595\n",
      "0.12432107607876541\n",
      "0.13118580379503442\n"
     ]
    }
   ],
   "source": [
    "# linear regression\n",
    "from sklearn.linear_model import ElasticNetCV\n",
    "\n",
    "from sklearn.metrics import r2_score\n",
    "from sklearn.metrics import mean_squared_error\n",
    "res_df =[]\n",
    "\n",
    "\n",
    "Target = []\n",
    "Dataset = []\n",
    "Celltype_mtx_norm_sub  = Celltype_mtx_norm[index]\n",
    "Connectome_direct_density_sub = Connectome_direct_density[index, :]\n",
    "Connectome_direct_density_sub = Connectome_direct_density_sub[:,index]\n",
    "for i in range(Celltype_mtx_norm_sub.shape[0]):\n",
    "    for j in range(Celltype_mtx_norm_sub.shape[0]):\n",
    "        #print(i)\n",
    "        #print(j)\n",
    "        if i == j:\n",
    "            pass       \n",
    "        else:\n",
    "\n",
    "            #_Dataset_Training = np.concatenate((Dataset_Train_set[i,:],Dataset_Train_set[j,:]))\n",
    "            #Dataset_Training = np.stack((Dataset_Training,_Dataset_Training))\n",
    "            Dataset.append(np.concatenate((Celltype_mtx_norm_sub[i,:],Celltype_mtx_norm_sub[j,:],\n",
    "                                          Celltype_mtx_norm_sub[i,:] - Celltype_mtx_norm_sub[j,:], \n",
    "                                         np.log10((Celltype_mtx_norm_sub[i,:] / (Celltype_mtx_norm_sub[j,:]+0.0001))+ 0.0001),\n",
    "                                          Celltype_mtx_norm_sub[i,:] + Celltype_mtx_norm_sub[j,:],\n",
    "                                          Celltype_mtx_norm_sub[i,:] * Celltype_mtx_norm_sub[j,:])))\n",
    "            \n",
    "            Target.append(Connectome_direct_density_sub[i,j])\n",
    "            \n",
    "\n",
    "Dataset = np.stack(Dataset)\n",
    "Target =np.array([np.array(xi) for xi in Target])   \n",
    "print(Dataset.shape)\n",
    "print(Target.shape)    \n",
    "#X_train, X_test, y_train, y_test = train_test_split(Dataset, Target,test_size=.2,random_state =123)  \n",
    "\n",
    "#\n",
    "kf = KFold(n_splits=10, shuffle= True)\n",
    "list_r2 = []\n",
    "for train_index, test_index in kf.split(Dataset):\n",
    "    #print(train_index)\n",
    "    #print(test_index)\n",
    "    sub1 = train_index#), int(len(train_index))\n",
    "    sub2 = test_index#), int(len(test_index)/50))\n",
    "    X_train, X_test = Dataset[sub1], Dataset[sub2]\n",
    "    y_train, y_test = Target[sub1], Target[sub2]\n",
    "  \n",
    "    \n",
    "    \n",
    "    #reg = LazyRegressor(verbose=1, predictions=True,ignore_warnings=False, custom_metric=None)\n",
    "    #models, predictions = reg.fit(X_train, X_test, y_train, y_test)\n",
    "    #print(models)\n",
    "    \n",
    "\n",
    "    \n",
    "    #svr_rbf = SVR()\n",
    "    \n",
    "    #svr_rbf.fit(X_train,y_train)\n",
    "\n",
    "    lr = LinearRegression()\n",
    "    lr.fit(X_train,y_train)\n",
    "    \n",
    "    Predict = lr.predict(X_test)\n",
    "    print(r2_score(y_test, Predict))\n",
    "    list_r2.append(r2_score(y_test, Predict))"
   ]
  },
  {
   "cell_type": "code",
   "execution_count": 51,
   "metadata": {},
   "outputs": [
    {
     "name": "stdout",
     "output_type": "stream",
     "text": [
      "(5700, 150)\n",
      "(5700,)\n",
      "0.1334349810612293\n",
      "0.08590726495990231\n",
      "0.03781748868133228\n",
      "0.06682241422926694\n",
      "0.05511383086493915\n",
      "0.12182299449231981\n",
      "0.09485099867408486\n",
      "0.07188157488592894\n",
      "0.11233070984798721\n",
      "0.1228856529753537\n"
     ]
    }
   ],
   "source": [
    "# linear regression\n",
    "from sklearn.linear_model import ElasticNetCV\n",
    "\n",
    "from sklearn.metrics import r2_score\n",
    "from sklearn.metrics import mean_squared_error\n",
    "res_df =[]\n",
    "\n",
    "\n",
    "Target = []\n",
    "Dataset = []\n",
    "Celltype_mtx_norm_sub  = Celltype_mtx_norm[index]\n",
    "Connectome_direct_density_sub = Connectome_direct_density[index, :]\n",
    "Connectome_direct_density_sub = Connectome_direct_density_sub[:,index]\n",
    "for i in range(Celltype_mtx_norm_sub.shape[0]):\n",
    "    for j in range(Celltype_mtx_norm_sub.shape[0]):\n",
    "        #print(i)\n",
    "        #print(j)\n",
    "        if i == j:\n",
    "            pass       \n",
    "        else:\n",
    "\n",
    "            #_Dataset_Training = np.concatenate((Dataset_Train_set[i,:],Dataset_Train_set[j,:]))\n",
    "            #Dataset_Training = np.stack((Dataset_Training,_Dataset_Training))\n",
    "            Dataset.append(np.concatenate((Celltype_mtx_norm_sub[i,:],Celltype_mtx_norm_sub[j,:],\n",
    "                                          Celltype_mtx_norm_sub[i,:] - Celltype_mtx_norm_sub[j,:], \n",
    "                                         np.log10((Celltype_mtx_norm_sub[i,:] / (Celltype_mtx_norm_sub[j,:]+0.0001))+ 0.0001),\n",
    "                                          Celltype_mtx_norm_sub[i,:] + Celltype_mtx_norm_sub[j,:],\n",
    "                                          Celltype_mtx_norm_sub[i,:] * Celltype_mtx_norm_sub[j,:])))\n",
    "            \n",
    "            Target.append(Connectome_direct_density_sub[i,j])\n",
    "            \n",
    "\n",
    "Dataset = np.stack(Dataset)\n",
    "Target =np.array([np.array(xi) for xi in Target])   \n",
    "print(Dataset.shape)\n",
    "print(Target.shape)    \n",
    "#X_train, X_test, y_train, y_test = train_test_split(Dataset, Target,test_size=.2,random_state =123)  \n",
    "\n",
    "#\n",
    "kf = KFold(n_splits=10, shuffle= True)\n",
    "list_r2 = []\n",
    "for train_index, test_index in kf.split(Dataset):\n",
    "    #print(train_index)\n",
    "    #print(test_index)\n",
    "    sub1 = train_index#), int(len(train_index))\n",
    "    sub2 = test_index#), int(len(test_index)/50))\n",
    "    X_train, X_test = Dataset[sub1], Dataset[sub2]\n",
    "    y_train, y_test = Target[sub1], Target[sub2]\n",
    "  \n",
    "    \n",
    "    \n",
    "    #reg = LazyRegressor(verbose=1, predictions=True,ignore_warnings=False, custom_metric=None)\n",
    "    #models, predictions = reg.fit(X_train, X_test, y_train, y_test)\n",
    "    #print(models)\n",
    "    \n",
    "\n",
    "    \n",
    "    #svr_rbf = SVR()\n",
    "    \n",
    "    #svr_rbf.fit(X_train,y_train)\n",
    "\n",
    "    Ela_CV = ElasticNetCV()\n",
    "    Ela_CV.fit(X_train,y_train)\n",
    "    \n",
    "    Predict = Ela_CV.predict(X_test)\n",
    "    print(r2_score(y_test, Predict))\n",
    "    list_r2.append(r2_score(y_test, Predict))"
   ]
  },
  {
   "cell_type": "code",
   "execution_count": 157,
   "metadata": {},
   "outputs": [
    {
     "data": {
      "text/plain": [
       "0.04962714619583778"
      ]
     },
     "execution_count": 157,
     "metadata": {},
     "output_type": "execute_result"
    }
   ],
   "source": [
    "stats.mean(list_r2)"
   ]
  },
  {
   "cell_type": "code",
   "execution_count": 152,
   "metadata": {},
   "outputs": [
    {
     "data": {
      "text/plain": [
       "[-0.0070504044985018055,\n",
       " 0.00812139705515258,\n",
       " -0.005589574976387013,\n",
       " 0.0005921431671027655,\n",
       " -0.012387626697368592,\n",
       " -0.016713000581362714,\n",
       " 0.003728539674076048,\n",
       " -9.643197111297575e-05,\n",
       " 0.012950979568186582,\n",
       " -0.011551409134521018]"
      ]
     },
     "execution_count": 152,
     "metadata": {},
     "output_type": "execute_result"
    }
   ],
   "source": [
    "list_r2"
   ]
  },
  {
   "cell_type": "code",
   "execution_count": 23,
   "metadata": {},
   "outputs": [
    {
     "data": {
      "text/html": [
       "<div>\n",
       "<style scoped>\n",
       "    .dataframe tbody tr th:only-of-type {\n",
       "        vertical-align: middle;\n",
       "    }\n",
       "\n",
       "    .dataframe tbody tr th {\n",
       "        vertical-align: top;\n",
       "    }\n",
       "\n",
       "    .dataframe thead th {\n",
       "        text-align: right;\n",
       "    }\n",
       "</style>\n",
       "<table border=\"1\" class=\"dataframe\">\n",
       "  <thead>\n",
       "    <tr style=\"text-align: right;\">\n",
       "      <th></th>\n",
       "      <th>Adjusted R-Squared</th>\n",
       "      <th>R-Squared</th>\n",
       "      <th>RMSE</th>\n",
       "      <th>Time Taken</th>\n",
       "    </tr>\n",
       "    <tr>\n",
       "      <th>Model</th>\n",
       "      <th></th>\n",
       "      <th></th>\n",
       "      <th></th>\n",
       "      <th></th>\n",
       "    </tr>\n",
       "  </thead>\n",
       "  <tbody>\n",
       "    <tr>\n",
       "      <th>GaussianProcessRegressor</th>\n",
       "      <td>-0.02</td>\n",
       "      <td>0.05</td>\n",
       "      <td>114.68</td>\n",
       "      <td>3.94</td>\n",
       "    </tr>\n",
       "    <tr>\n",
       "      <th>LassoLars</th>\n",
       "      <td>-0.10</td>\n",
       "      <td>-0.02</td>\n",
       "      <td>118.69</td>\n",
       "      <td>0.10</td>\n",
       "    </tr>\n",
       "    <tr>\n",
       "      <th>DummyRegressor</th>\n",
       "      <td>-0.10</td>\n",
       "      <td>-0.02</td>\n",
       "      <td>118.69</td>\n",
       "      <td>0.04</td>\n",
       "    </tr>\n",
       "    <tr>\n",
       "      <th>NuSVR</th>\n",
       "      <td>-0.10</td>\n",
       "      <td>-0.03</td>\n",
       "      <td>119.00</td>\n",
       "      <td>1.86</td>\n",
       "    </tr>\n",
       "    <tr>\n",
       "      <th>SVR</th>\n",
       "      <td>-0.10</td>\n",
       "      <td>-0.03</td>\n",
       "      <td>119.05</td>\n",
       "      <td>1.97</td>\n",
       "    </tr>\n",
       "    <tr>\n",
       "      <th>HuberRegressor</th>\n",
       "      <td>-0.11</td>\n",
       "      <td>-0.03</td>\n",
       "      <td>119.17</td>\n",
       "      <td>1.64</td>\n",
       "    </tr>\n",
       "    <tr>\n",
       "      <th>LinearSVR</th>\n",
       "      <td>-0.11</td>\n",
       "      <td>-0.03</td>\n",
       "      <td>119.19</td>\n",
       "      <td>0.60</td>\n",
       "    </tr>\n",
       "    <tr>\n",
       "      <th>PassiveAggressiveRegressor</th>\n",
       "      <td>-0.11</td>\n",
       "      <td>-0.04</td>\n",
       "      <td>119.56</td>\n",
       "      <td>0.17</td>\n",
       "    </tr>\n",
       "    <tr>\n",
       "      <th>LassoLarsCV</th>\n",
       "      <td>-0.13</td>\n",
       "      <td>-0.05</td>\n",
       "      <td>120.25</td>\n",
       "      <td>0.43</td>\n",
       "    </tr>\n",
       "    <tr>\n",
       "      <th>LarsCV</th>\n",
       "      <td>-0.13</td>\n",
       "      <td>-0.05</td>\n",
       "      <td>120.25</td>\n",
       "      <td>0.40</td>\n",
       "    </tr>\n",
       "    <tr>\n",
       "      <th>LassoCV</th>\n",
       "      <td>-0.14</td>\n",
       "      <td>-0.06</td>\n",
       "      <td>120.71</td>\n",
       "      <td>0.35</td>\n",
       "    </tr>\n",
       "    <tr>\n",
       "      <th>GeneralizedLinearRegressor</th>\n",
       "      <td>-0.14</td>\n",
       "      <td>-0.06</td>\n",
       "      <td>121.09</td>\n",
       "      <td>0.48</td>\n",
       "    </tr>\n",
       "    <tr>\n",
       "      <th>TweedieRegressor</th>\n",
       "      <td>-0.14</td>\n",
       "      <td>-0.06</td>\n",
       "      <td>121.09</td>\n",
       "      <td>0.45</td>\n",
       "    </tr>\n",
       "    <tr>\n",
       "      <th>ElasticNetCV</th>\n",
       "      <td>-0.16</td>\n",
       "      <td>-0.08</td>\n",
       "      <td>122.06</td>\n",
       "      <td>0.48</td>\n",
       "    </tr>\n",
       "    <tr>\n",
       "      <th>BayesianRidge</th>\n",
       "      <td>-0.17</td>\n",
       "      <td>-0.09</td>\n",
       "      <td>122.66</td>\n",
       "      <td>0.79</td>\n",
       "    </tr>\n",
       "    <tr>\n",
       "      <th>ElasticNet</th>\n",
       "      <td>-0.17</td>\n",
       "      <td>-0.09</td>\n",
       "      <td>122.78</td>\n",
       "      <td>0.11</td>\n",
       "    </tr>\n",
       "    <tr>\n",
       "      <th>OrthogonalMatchingPursuitCV</th>\n",
       "      <td>-0.19</td>\n",
       "      <td>-0.10</td>\n",
       "      <td>123.36</td>\n",
       "      <td>0.33</td>\n",
       "    </tr>\n",
       "    <tr>\n",
       "      <th>LassoLarsIC</th>\n",
       "      <td>-0.24</td>\n",
       "      <td>-0.15</td>\n",
       "      <td>125.99</td>\n",
       "      <td>0.14</td>\n",
       "    </tr>\n",
       "    <tr>\n",
       "      <th>OrthogonalMatchingPursuit</th>\n",
       "      <td>-0.29</td>\n",
       "      <td>-0.20</td>\n",
       "      <td>128.81</td>\n",
       "      <td>0.04</td>\n",
       "    </tr>\n",
       "    <tr>\n",
       "      <th>Lasso</th>\n",
       "      <td>-0.33</td>\n",
       "      <td>-0.23</td>\n",
       "      <td>130.53</td>\n",
       "      <td>0.18</td>\n",
       "    </tr>\n",
       "    <tr>\n",
       "      <th>KernelRidge</th>\n",
       "      <td>-0.40</td>\n",
       "      <td>-0.30</td>\n",
       "      <td>133.83</td>\n",
       "      <td>2.26</td>\n",
       "    </tr>\n",
       "    <tr>\n",
       "      <th>RidgeCV</th>\n",
       "      <td>-0.40</td>\n",
       "      <td>-0.30</td>\n",
       "      <td>133.90</td>\n",
       "      <td>0.72</td>\n",
       "    </tr>\n",
       "    <tr>\n",
       "      <th>Ridge</th>\n",
       "      <td>-0.40</td>\n",
       "      <td>-0.30</td>\n",
       "      <td>134.18</td>\n",
       "      <td>0.06</td>\n",
       "    </tr>\n",
       "    <tr>\n",
       "      <th>TransformedTargetRegressor</th>\n",
       "      <td>-0.40</td>\n",
       "      <td>-0.30</td>\n",
       "      <td>134.21</td>\n",
       "      <td>0.16</td>\n",
       "    </tr>\n",
       "    <tr>\n",
       "      <th>LinearRegression</th>\n",
       "      <td>-0.40</td>\n",
       "      <td>-0.30</td>\n",
       "      <td>134.21</td>\n",
       "      <td>0.13</td>\n",
       "    </tr>\n",
       "    <tr>\n",
       "      <th>Lars</th>\n",
       "      <td>-0.40</td>\n",
       "      <td>-0.31</td>\n",
       "      <td>134.22</td>\n",
       "      <td>0.10</td>\n",
       "    </tr>\n",
       "    <tr>\n",
       "      <th>SGDRegressor</th>\n",
       "      <td>-0.47</td>\n",
       "      <td>-0.37</td>\n",
       "      <td>137.55</td>\n",
       "      <td>0.14</td>\n",
       "    </tr>\n",
       "    <tr>\n",
       "      <th>PoissonRegressor</th>\n",
       "      <td>-0.59</td>\n",
       "      <td>-0.47</td>\n",
       "      <td>142.66</td>\n",
       "      <td>1.27</td>\n",
       "    </tr>\n",
       "    <tr>\n",
       "      <th>MLPRegressor</th>\n",
       "      <td>-0.59</td>\n",
       "      <td>-0.48</td>\n",
       "      <td>142.95</td>\n",
       "      <td>121.74</td>\n",
       "    </tr>\n",
       "    <tr>\n",
       "      <th>ExtraTreesRegressor</th>\n",
       "      <td>-1.16</td>\n",
       "      <td>-1.01</td>\n",
       "      <td>166.55</td>\n",
       "      <td>4.08</td>\n",
       "    </tr>\n",
       "    <tr>\n",
       "      <th>LGBMRegressor</th>\n",
       "      <td>-1.76</td>\n",
       "      <td>-1.57</td>\n",
       "      <td>188.36</td>\n",
       "      <td>113.41</td>\n",
       "    </tr>\n",
       "    <tr>\n",
       "      <th>HistGradientBoostingRegressor</th>\n",
       "      <td>-1.88</td>\n",
       "      <td>-1.68</td>\n",
       "      <td>192.20</td>\n",
       "      <td>2344.87</td>\n",
       "    </tr>\n",
       "    <tr>\n",
       "      <th>AdaBoostRegressor</th>\n",
       "      <td>-3.22</td>\n",
       "      <td>-2.92</td>\n",
       "      <td>232.69</td>\n",
       "      <td>0.80</td>\n",
       "    </tr>\n",
       "    <tr>\n",
       "      <th>KNeighborsRegressor</th>\n",
       "      <td>-3.46</td>\n",
       "      <td>-3.15</td>\n",
       "      <td>239.29</td>\n",
       "      <td>0.40</td>\n",
       "    </tr>\n",
       "    <tr>\n",
       "      <th>RandomForestRegressor</th>\n",
       "      <td>-3.58</td>\n",
       "      <td>-3.26</td>\n",
       "      <td>242.53</td>\n",
       "      <td>19.71</td>\n",
       "    </tr>\n",
       "    <tr>\n",
       "      <th>BaggingRegressor</th>\n",
       "      <td>-3.75</td>\n",
       "      <td>-3.41</td>\n",
       "      <td>246.86</td>\n",
       "      <td>1.31</td>\n",
       "    </tr>\n",
       "    <tr>\n",
       "      <th>XGBRegressor</th>\n",
       "      <td>-12.54</td>\n",
       "      <td>-11.59</td>\n",
       "      <td>416.85</td>\n",
       "      <td>161.93</td>\n",
       "    </tr>\n",
       "    <tr>\n",
       "      <th>GradientBoostingRegressor</th>\n",
       "      <td>-12.87</td>\n",
       "      <td>-11.90</td>\n",
       "      <td>421.90</td>\n",
       "      <td>3.07</td>\n",
       "    </tr>\n",
       "    <tr>\n",
       "      <th>ExtraTreeRegressor</th>\n",
       "      <td>-18.53</td>\n",
       "      <td>-17.16</td>\n",
       "      <td>500.65</td>\n",
       "      <td>0.13</td>\n",
       "    </tr>\n",
       "    <tr>\n",
       "      <th>DecisionTreeRegressor</th>\n",
       "      <td>-19.87</td>\n",
       "      <td>-18.41</td>\n",
       "      <td>517.57</td>\n",
       "      <td>0.44</td>\n",
       "    </tr>\n",
       "  </tbody>\n",
       "</table>\n",
       "</div>"
      ],
      "text/plain": [
       "                               Adjusted R-Squared  R-Squared   RMSE  \\\n",
       "Model                                                                 \n",
       "GaussianProcessRegressor                    -0.02       0.05 114.68   \n",
       "LassoLars                                   -0.10      -0.02 118.69   \n",
       "DummyRegressor                              -0.10      -0.02 118.69   \n",
       "NuSVR                                       -0.10      -0.03 119.00   \n",
       "SVR                                         -0.10      -0.03 119.05   \n",
       "HuberRegressor                              -0.11      -0.03 119.17   \n",
       "LinearSVR                                   -0.11      -0.03 119.19   \n",
       "PassiveAggressiveRegressor                  -0.11      -0.04 119.56   \n",
       "LassoLarsCV                                 -0.13      -0.05 120.25   \n",
       "LarsCV                                      -0.13      -0.05 120.25   \n",
       "LassoCV                                     -0.14      -0.06 120.71   \n",
       "GeneralizedLinearRegressor                  -0.14      -0.06 121.09   \n",
       "TweedieRegressor                            -0.14      -0.06 121.09   \n",
       "ElasticNetCV                                -0.16      -0.08 122.06   \n",
       "BayesianRidge                               -0.17      -0.09 122.66   \n",
       "ElasticNet                                  -0.17      -0.09 122.78   \n",
       "OrthogonalMatchingPursuitCV                 -0.19      -0.10 123.36   \n",
       "LassoLarsIC                                 -0.24      -0.15 125.99   \n",
       "OrthogonalMatchingPursuit                   -0.29      -0.20 128.81   \n",
       "Lasso                                       -0.33      -0.23 130.53   \n",
       "KernelRidge                                 -0.40      -0.30 133.83   \n",
       "RidgeCV                                     -0.40      -0.30 133.90   \n",
       "Ridge                                       -0.40      -0.30 134.18   \n",
       "TransformedTargetRegressor                  -0.40      -0.30 134.21   \n",
       "LinearRegression                            -0.40      -0.30 134.21   \n",
       "Lars                                        -0.40      -0.31 134.22   \n",
       "SGDRegressor                                -0.47      -0.37 137.55   \n",
       "PoissonRegressor                            -0.59      -0.47 142.66   \n",
       "MLPRegressor                                -0.59      -0.48 142.95   \n",
       "ExtraTreesRegressor                         -1.16      -1.01 166.55   \n",
       "LGBMRegressor                               -1.76      -1.57 188.36   \n",
       "HistGradientBoostingRegressor               -1.88      -1.68 192.20   \n",
       "AdaBoostRegressor                           -3.22      -2.92 232.69   \n",
       "KNeighborsRegressor                         -3.46      -3.15 239.29   \n",
       "RandomForestRegressor                       -3.58      -3.26 242.53   \n",
       "BaggingRegressor                            -3.75      -3.41 246.86   \n",
       "XGBRegressor                               -12.54     -11.59 416.85   \n",
       "GradientBoostingRegressor                  -12.87     -11.90 421.90   \n",
       "ExtraTreeRegressor                         -18.53     -17.16 500.65   \n",
       "DecisionTreeRegressor                      -19.87     -18.41 517.57   \n",
       "\n",
       "                               Time Taken  \n",
       "Model                                      \n",
       "GaussianProcessRegressor             3.94  \n",
       "LassoLars                            0.10  \n",
       "DummyRegressor                       0.04  \n",
       "NuSVR                                1.86  \n",
       "SVR                                  1.97  \n",
       "HuberRegressor                       1.64  \n",
       "LinearSVR                            0.60  \n",
       "PassiveAggressiveRegressor           0.17  \n",
       "LassoLarsCV                          0.43  \n",
       "LarsCV                               0.40  \n",
       "LassoCV                              0.35  \n",
       "GeneralizedLinearRegressor           0.48  \n",
       "TweedieRegressor                     0.45  \n",
       "ElasticNetCV                         0.48  \n",
       "BayesianRidge                        0.79  \n",
       "ElasticNet                           0.11  \n",
       "OrthogonalMatchingPursuitCV          0.33  \n",
       "LassoLarsIC                          0.14  \n",
       "OrthogonalMatchingPursuit            0.04  \n",
       "Lasso                                0.18  \n",
       "KernelRidge                          2.26  \n",
       "RidgeCV                              0.72  \n",
       "Ridge                                0.06  \n",
       "TransformedTargetRegressor           0.16  \n",
       "LinearRegression                     0.13  \n",
       "Lars                                 0.10  \n",
       "SGDRegressor                         0.14  \n",
       "PoissonRegressor                     1.27  \n",
       "MLPRegressor                       121.74  \n",
       "ExtraTreesRegressor                  4.08  \n",
       "LGBMRegressor                      113.41  \n",
       "HistGradientBoostingRegressor     2344.87  \n",
       "AdaBoostRegressor                    0.80  \n",
       "KNeighborsRegressor                  0.40  \n",
       "RandomForestRegressor               19.71  \n",
       "BaggingRegressor                     1.31  \n",
       "XGBRegressor                       161.93  \n",
       "GradientBoostingRegressor            3.07  \n",
       "ExtraTreeRegressor                   0.13  \n",
       "DecisionTreeRegressor                0.44  "
      ]
     },
     "execution_count": 23,
     "metadata": {},
     "output_type": "execute_result"
    }
   ],
   "source": [
    "models"
   ]
  },
  {
   "cell_type": "code",
   "execution_count": null,
   "metadata": {},
   "outputs": [],
   "source": [
    "models.to_csv('res_withoutnormal.csv', sep = '\\t')"
   ]
  },
  {
   "cell_type": "code",
   "execution_count": 19,
   "metadata": {},
   "outputs": [
    {
     "data": {
      "text/html": [
       "<div>\n",
       "<style scoped>\n",
       "    .dataframe tbody tr th:only-of-type {\n",
       "        vertical-align: middle;\n",
       "    }\n",
       "\n",
       "    .dataframe tbody tr th {\n",
       "        vertical-align: top;\n",
       "    }\n",
       "\n",
       "    .dataframe thead th {\n",
       "        text-align: right;\n",
       "    }\n",
       "</style>\n",
       "<table border=\"1\" class=\"dataframe\">\n",
       "  <thead>\n",
       "    <tr style=\"text-align: right;\">\n",
       "      <th></th>\n",
       "      <th>Model</th>\n",
       "      <th>R-Squared</th>\n",
       "      <th>Adjusted R-Squared</th>\n",
       "      <th>RMSE</th>\n",
       "      <th>Time taken</th>\n",
       "    </tr>\n",
       "  </thead>\n",
       "  <tbody>\n",
       "    <tr>\n",
       "      <th>0</th>\n",
       "      <td>AdaBoostRegressor</td>\n",
       "      <td>-9.35</td>\n",
       "      <td>-10.13</td>\n",
       "      <td>289.08</td>\n",
       "      <td>1.17</td>\n",
       "    </tr>\n",
       "  </tbody>\n",
       "</table>\n",
       "</div>"
      ],
      "text/plain": [
       "               Model  R-Squared  Adjusted R-Squared   RMSE  Time taken\n",
       "0  AdaBoostRegressor      -9.35              -10.13 289.08        1.17"
      ]
     },
     "execution_count": 19,
     "metadata": {},
     "output_type": "execute_result"
    }
   ],
   "source": [
    "df =pd.DataFrame({'Model': ['AdaBoostRegressor'], 'R-Squared': [-9.350436758649849], \n",
    "              'Adjusted R-Squared': [-10.127496575365303], 'RMSE': [289.0818274995949], \n",
    "              'Time taken': [1.1686530113220215]})\n",
    "df"
   ]
  },
  {
   "cell_type": "code",
   "execution_count": 97,
   "metadata": {},
   "outputs": [],
   "source": [
    "# support vector\n",
    "from sklearn.svm import SVR"
   ]
  },
  {
   "cell_type": "code",
   "execution_count": 14,
   "metadata": {
    "scrolled": true
   },
   "outputs": [
    {
     "name": "stdout",
     "output_type": "stream",
     "text": [
      "Perform the validation, iteration:1\n",
      "Build Training set\n",
      "Build Testing set\n"
     ]
    }
   ],
   "source": [
    "# linear regression\n",
    "from sklearn.linear_model import LinearRegression\n",
    "\n",
    "\n",
    "\n",
    "k = 0\n",
    "for train_index, test_index in KF.split(list(range(0,424))):\n",
    "    k = k +1\n",
    "    print('Perform the validation, iteration:'+str(k))\n",
    "    Targets_Train_set = Connectome_direct_density[:,train_index]\n",
    "    Targets_Train_set  = Targets_Train_set[train_index,:]\n",
    "    Targets_Test_set  = Connectome_direct_density[:,test_index]\n",
    "    Targets_Test_set   = Targets_Test_set[test_index,:]\n",
    "    \n",
    "    \n",
    "    Dataset_Train_set = Celltype_mtx_norm[train_index,:]\n",
    "    Dataset_Test_set  = Celltype_mtx_norm[test_index,:]\n",
    "    print('Build Training set')\n",
    "    Target_training = []\n",
    "    Dataset_Training = []\n",
    "    for i in range(Dataset_Train_set.shape[0]):\n",
    "        for j in range(Dataset_Train_set.shape[0]):\n",
    "            #print(i)\n",
    "            #print(j)\n",
    "            if i == j:\n",
    "                pass       \n",
    "            else:\n",
    "\n",
    "                #_Dataset_Training = np.concatenate((Dataset_Train_set[i,:],Dataset_Train_set[j,:]))\n",
    "                #Dataset_Training = np.stack((Dataset_Training,_Dataset_Training))\n",
    "                Dataset_Training.append(np.concatenate((Dataset_Train_set[i,:],Dataset_Train_set[j,:])))\n",
    "                Target_training.append(Targets_Train_set[i,j])\n",
    "    Dataset_Training = np.stack(Dataset_Training)\n",
    "    Target_training =np.array([np.array(xi) for xi in Target_training])   \n",
    "    \n",
    "    print('Build Testing set')\n",
    "    Target_Testing = []\n",
    "    Dataset_Testing = []\n",
    "    for i in range(Dataset_Test_set.shape[0]):\n",
    "        for j in range(Dataset_Test_set.shape[0]):\n",
    "            #print(i)\n",
    "            #print(j)\n",
    "            if i == j:\n",
    "                pass       \n",
    "            else:\n",
    "                #print(Dataset_Test_set[i,j])\n",
    "\n",
    "                #_Dataset_Training = np.concatenate((Dataset_Train_set[i,:],Dataset_Train_set[j,:]))\n",
    "                #Dataset_Training = np.stack((Dataset_Training,_Dataset_Training))\n",
    "                Dataset_Testing.append(np.concatenate((Dataset_Test_set[i,:],Dataset_Test_set[j,:])))\n",
    "                Target_Testing.append(Targets_Test_set[i,j])\n",
    "    Dataset_Testing = np.stack(Dataset_Testing)\n",
    "    Target_Testing =np.array([np.array(xi) for xi in Target_Testing])      \n",
    "         \n",
    "    reg = LazyRegressor(verbose=1, predictions=True,ignore_warnings=False, custom_metric=None)\n",
    "    # split into 50 %\n",
    "    sub_1 = sample(list(range(Dataset_Training.shape[0])),int(Dataset_Training.shape[0]/40) )\n",
    "    sub_2 = sample(list(range(Dataset_Testing.shape[0])),int(Dataset_Testing.shape[0]/10) )\n",
    "    # subset 50 percents\n",
    "    Dataset_Training_sub = Dataset_Training[sub_1,:]\n",
    "    \n",
    "    Target_training_sub = Target_training[sub_1]\n",
    "    \n",
    "    Dataset_Testing_sub = Dataset_Testing[sub_2,:]\n",
    "    \n",
    "    Target_Testing_sub = Target_Testing[sub_2]\n",
    "    \n",
    "    #models, predictions = reg.fit(Dataset_Training_sub, Dataset_Testing_sub, Target_training_sub, Target_Testing_sub)\n",
    "    #print(models)\n",
    "    \n",
    "    # support vector regressor\n",
    "    \n",
    "    \n",
    "    Lr = LinearRegression()\n",
    "    \n",
    "    Lr.fit(Dataset_Training_sub,Target_training_sub)\n",
    "\n",
    "\n",
    "    Predict = Lr.predict(Dataset_Testing_sub)\n",
    "    _res = []\n",
    "    _res.append('LinearRegression')\n",
    "    \n",
    "    _res.append(r2_score(Target_Testing_sub,Predict))\n",
    "    _res.append(mean_squared_error(Target_Testing_sub,Predict,squared=False))\n",
    "    res_df.append(_res)\n",
    "    break "
   ]
  },
  {
   "cell_type": "code",
   "execution_count": null,
   "metadata": {},
   "outputs": [],
   "source": [
    "# linear regression\n",
    "from sklearn.linear_model import LinearRegression\n",
    "\n",
    "\n",
    "\n",
    "k = 0\n",
    "for train_index, test_index in KF.split(list(range(0,424))):\n",
    "    k = k +1\n",
    "    print('Perform the validation, iteration:'+str(k))\n",
    "    Targets_Train_set = Connectome_direct_density[:,train_index]\n",
    "    Targets_Train_set  = Targets_Train_set[train_index,:]\n",
    "    Targets_Test_set  = Connectome_direct_density[:,test_index]\n",
    "    Targets_Test_set   = Targets_Test_set[test_index,:]\n",
    "    \n",
    "    \n",
    "    Dataset_Train_set = Celltype_mtx_norm[train_index,:]\n",
    "    Dataset_Test_set  = Celltype_mtx_norm[test_index,:]\n",
    "    print('Build Training set')\n",
    "    Target_training = []\n",
    "    Dataset_Training = []\n",
    "    for i in range(Dataset_Train_set.shape[0]):\n",
    "        for j in range(Dataset_Train_set.shape[0]):\n",
    "            #print(i)\n",
    "            #print(j)\n",
    "            if i == j:\n",
    "                pass       \n",
    "            else:\n",
    "\n",
    "                #_Dataset_Training = np.concatenate((Dataset_Train_set[i,:],Dataset_Train_set[j,:]))\n",
    "                #Dataset_Training = np.stack((Dataset_Training,_Dataset_Training))\n",
    "                Dataset_Training.append(np.concatenate((Dataset_Train_set[i,:],Dataset_Train_set[j,:])))\n",
    "                Target_training.append(Targets_Train_set[i,j])\n",
    "    Dataset_Training = np.stack(Dataset_Training)\n",
    "    Target_training =np.array([np.array(xi) for xi in Target_training])   \n",
    "    \n",
    "    print('Build Testing set')\n",
    "    Target_Testing = []\n",
    "    Dataset_Testing = []\n",
    "    for i in range(Dataset_Test_set.shape[0]):\n",
    "        for j in range(Dataset_Test_set.shape[0]):\n",
    "            #print(i)\n",
    "            #print(j)\n",
    "            if i == j:\n",
    "                pass       \n",
    "            else:\n",
    "                #print(Dataset_Test_set[i,j])\n",
    "\n",
    "                #_Dataset_Training = np.concatenate((Dataset_Train_set[i,:],Dataset_Train_set[j,:]))\n",
    "                #Dataset_Training = np.stack((Dataset_Training,_Dataset_Training))\n",
    "                Dataset_Testing.append(np.concatenate((Dataset_Test_set[i,:],Dataset_Test_set[j,:])))\n",
    "                Target_Testing.append(Targets_Test_set[i,j])\n",
    "    Dataset_Testing = np.stack(Dataset_Testing)\n",
    "    Target_Testing =np.array([np.array(xi) for xi in Target_Testing])      \n",
    "         \n",
    "    reg = LazyRegressor(verbose=1, predictions=True,ignore_warnings=False, custom_metric=None)\n",
    "    # split into 50 %\n",
    "    sub_1 = sample(list(range(Dataset_Training.shape[0])),int(Dataset_Training.shape[0]/40) )\n",
    "    sub_2 = sample(list(range(Dataset_Testing.shape[0])),int(Dataset_Testing.shape[0]/10) )\n",
    "    # subset 50 percents\n",
    "    Dataset_Training_sub = Dataset_Training[sub_1,:]\n",
    "    \n",
    "    Target_training_sub = Target_training[sub_1]\n",
    "    \n",
    "    Dataset_Testing_sub = Dataset_Testing[sub_2,:]\n",
    "    \n",
    "    Target_Testing_sub = Target_Testing[sub_2]\n",
    "    \n",
    "    #models, predictions = reg.fit(Dataset_Training_sub, Dataset_Testing_sub, Target_training_sub, Target_Testing_sub)\n",
    "    #print(models)\n",
    "    \n",
    "    # support vector regressor\n",
    "    \n",
    "    \n",
    "    Lr = LinearRegression()\n",
    "    \n",
    "    Lr.fit(Dataset_Training_sub,Target_training_sub)\n",
    "\n",
    "\n",
    "    Predict = Lr.predict(Dataset_Testing_sub)\n",
    "    _res = []\n",
    "    _res.append('LinearRegression')\n",
    "    \n",
    "    _res.append(r2_score(Target_Testing_sub,Predict))\n",
    "    _res.append(mean_squared_error(Target_Testing_sub,Predict,squared=False))\n",
    "    res_df.append(_res)\n",
    "    break "
   ]
  },
  {
   "cell_type": "code",
   "execution_count": 15,
   "metadata": {},
   "outputs": [
    {
     "data": {
      "text/plain": [
       "[['RandomForestRegressor', -2.1711166186563435, 2.74740338024046],\n",
       " ['SVR', -0.011876711838972653, 2.7476554113754608],\n",
       " ['LinearRegression', -0.09461096965128601, 1.7275675777012653]]"
      ]
     },
     "execution_count": 15,
     "metadata": {},
     "output_type": "execute_result"
    }
   ],
   "source": [
    "res_df"
   ]
  },
  {
   "cell_type": "code",
   "execution_count": null,
   "metadata": {},
   "outputs": [],
   "source": [
    "Dataset_Testing.shape"
   ]
  },
  {
   "cell_type": "code",
   "execution_count": null,
   "metadata": {},
   "outputs": [],
   "source": [
    "from sklearn import datasets\n",
    "from sklearn.utils import shuffle"
   ]
  },
  {
   "cell_type": "code",
   "execution_count": null,
   "metadata": {},
   "outputs": [],
   "source": [
    "X_train.shape"
   ]
  },
  {
   "cell_type": "code",
   "execution_count": null,
   "metadata": {},
   "outputs": [],
   "source": []
  },
  {
   "cell_type": "code",
   "execution_count": null,
   "metadata": {},
   "outputs": [],
   "source": []
  },
  {
   "cell_type": "code",
   "execution_count": null,
   "metadata": {},
   "outputs": [],
   "source": []
  },
  {
   "cell_type": "code",
   "execution_count": null,
   "metadata": {},
   "outputs": [],
   "source": []
  },
  {
   "cell_type": "code",
   "execution_count": null,
   "metadata": {},
   "outputs": [],
   "source": []
  },
  {
   "cell_type": "code",
   "execution_count": null,
   "metadata": {},
   "outputs": [],
   "source": [
    "reg = LazyRegressor(verbose=0, ignore_warnings=False, custom_metric=None)\n",
    "models, predictions = reg.fit(Dataset_Training, Dataset_Testing, Target_training, Target_Testing)\n",
    "\n",
    "print(models)"
   ]
  },
  {
   "cell_type": "code",
   "execution_count": null,
   "metadata": {},
   "outputs": [],
   "source": [
    "print(models)"
   ]
  },
  {
   "cell_type": "code",
   "execution_count": null,
   "metadata": {},
   "outputs": [],
   "source": [
    "p=1"
   ]
  },
  {
   "cell_type": "code",
   "execution_count": null,
   "metadata": {},
   "outputs": [],
   "source": []
  }
 ],
 "metadata": {
  "kernelspec": {
   "display_name": "Python 3",
   "language": "python",
   "name": "python3"
  },
  "language_info": {
   "codemirror_mode": {
    "name": "ipython",
    "version": 3
   },
   "file_extension": ".py",
   "mimetype": "text/x-python",
   "name": "python",
   "nbconvert_exporter": "python",
   "pygments_lexer": "ipython3",
   "version": "3.8.5"
  }
 },
 "nbformat": 4,
 "nbformat_minor": 4
}
